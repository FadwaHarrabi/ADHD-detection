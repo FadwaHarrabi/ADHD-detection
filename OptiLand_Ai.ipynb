{
  "nbformat": 4,
  "nbformat_minor": 0,
  "metadata": {
    "colab": {
      "provenance": [],
      "toc_visible": true,
      "include_colab_link": true
    },
    "kernelspec": {
      "display_name": "Python 3",
      "name": "python3"
    },
    "widgets": {
      "application/vnd.jupyter.widget-state+json": {
        "02a29041304c4d8a871ac6abc42188a8": {
          "model_module": "@jupyter-widgets/controls",
          "model_name": "HBoxModel",
          "model_module_version": "1.5.0",
          "state": {
            "_dom_classes": [],
            "_model_module": "@jupyter-widgets/controls",
            "_model_module_version": "1.5.0",
            "_model_name": "HBoxModel",
            "_view_count": null,
            "_view_module": "@jupyter-widgets/controls",
            "_view_module_version": "1.5.0",
            "_view_name": "HBoxView",
            "box_style": "",
            "children": [
              "IPY_MODEL_b78baf4111674cb28761a90e6ab4def1",
              "IPY_MODEL_20e564fed1df4343b13c3e4ac970c138",
              "IPY_MODEL_626203e1443b4c3884bdf497a8575b79"
            ],
            "layout": "IPY_MODEL_5c7f747ec64c4787b829b358c5ca8e96"
          }
        },
        "b78baf4111674cb28761a90e6ab4def1": {
          "model_module": "@jupyter-widgets/controls",
          "model_name": "HTMLModel",
          "model_module_version": "1.5.0",
          "state": {
            "_dom_classes": [],
            "_model_module": "@jupyter-widgets/controls",
            "_model_module_version": "1.5.0",
            "_model_name": "HTMLModel",
            "_view_count": null,
            "_view_module": "@jupyter-widgets/controls",
            "_view_module_version": "1.5.0",
            "_view_name": "HTMLView",
            "description": "",
            "description_tooltip": null,
            "layout": "IPY_MODEL_ca148b45a77b48879c5cd8a8c0e457c6",
            "placeholder": "​",
            "style": "IPY_MODEL_9e4c86cc3c3244d6988177a302b0aa04",
            "value": "  3%"
          }
        },
        "20e564fed1df4343b13c3e4ac970c138": {
          "model_module": "@jupyter-widgets/controls",
          "model_name": "FloatProgressModel",
          "model_module_version": "1.5.0",
          "state": {
            "_dom_classes": [],
            "_model_module": "@jupyter-widgets/controls",
            "_model_module_version": "1.5.0",
            "_model_name": "FloatProgressModel",
            "_view_count": null,
            "_view_module": "@jupyter-widgets/controls",
            "_view_module_version": "1.5.0",
            "_view_name": "ProgressView",
            "bar_style": "",
            "description": "",
            "description_tooltip": null,
            "layout": "IPY_MODEL_08a2e8f23de14f5ba7558f75c5038b84",
            "max": 1182,
            "min": 0,
            "orientation": "horizontal",
            "style": "IPY_MODEL_99d5db23cddc4ec4baf15009d8f9e565",
            "value": 37
          }
        },
        "626203e1443b4c3884bdf497a8575b79": {
          "model_module": "@jupyter-widgets/controls",
          "model_name": "HTMLModel",
          "model_module_version": "1.5.0",
          "state": {
            "_dom_classes": [],
            "_model_module": "@jupyter-widgets/controls",
            "_model_module_version": "1.5.0",
            "_model_name": "HTMLModel",
            "_view_count": null,
            "_view_module": "@jupyter-widgets/controls",
            "_view_module_version": "1.5.0",
            "_view_name": "HTMLView",
            "description": "",
            "description_tooltip": null,
            "layout": "IPY_MODEL_a16c7c6faa524b478b61721849b9c9b2",
            "placeholder": "​",
            "style": "IPY_MODEL_f544ea1ef092464cadbbf2c77e486db1",
            "value": " 37/1182 [07:34&lt;3:42:45, 11.67s/it]"
          }
        },
        "5c7f747ec64c4787b829b358c5ca8e96": {
          "model_module": "@jupyter-widgets/base",
          "model_name": "LayoutModel",
          "model_module_version": "1.2.0",
          "state": {
            "_model_module": "@jupyter-widgets/base",
            "_model_module_version": "1.2.0",
            "_model_name": "LayoutModel",
            "_view_count": null,
            "_view_module": "@jupyter-widgets/base",
            "_view_module_version": "1.2.0",
            "_view_name": "LayoutView",
            "align_content": null,
            "align_items": null,
            "align_self": null,
            "border": null,
            "bottom": null,
            "display": null,
            "flex": null,
            "flex_flow": null,
            "grid_area": null,
            "grid_auto_columns": null,
            "grid_auto_flow": null,
            "grid_auto_rows": null,
            "grid_column": null,
            "grid_gap": null,
            "grid_row": null,
            "grid_template_areas": null,
            "grid_template_columns": null,
            "grid_template_rows": null,
            "height": null,
            "justify_content": null,
            "justify_items": null,
            "left": null,
            "margin": null,
            "max_height": null,
            "max_width": null,
            "min_height": null,
            "min_width": null,
            "object_fit": null,
            "object_position": null,
            "order": null,
            "overflow": null,
            "overflow_x": null,
            "overflow_y": null,
            "padding": null,
            "right": null,
            "top": null,
            "visibility": null,
            "width": null
          }
        },
        "ca148b45a77b48879c5cd8a8c0e457c6": {
          "model_module": "@jupyter-widgets/base",
          "model_name": "LayoutModel",
          "model_module_version": "1.2.0",
          "state": {
            "_model_module": "@jupyter-widgets/base",
            "_model_module_version": "1.2.0",
            "_model_name": "LayoutModel",
            "_view_count": null,
            "_view_module": "@jupyter-widgets/base",
            "_view_module_version": "1.2.0",
            "_view_name": "LayoutView",
            "align_content": null,
            "align_items": null,
            "align_self": null,
            "border": null,
            "bottom": null,
            "display": null,
            "flex": null,
            "flex_flow": null,
            "grid_area": null,
            "grid_auto_columns": null,
            "grid_auto_flow": null,
            "grid_auto_rows": null,
            "grid_column": null,
            "grid_gap": null,
            "grid_row": null,
            "grid_template_areas": null,
            "grid_template_columns": null,
            "grid_template_rows": null,
            "height": null,
            "justify_content": null,
            "justify_items": null,
            "left": null,
            "margin": null,
            "max_height": null,
            "max_width": null,
            "min_height": null,
            "min_width": null,
            "object_fit": null,
            "object_position": null,
            "order": null,
            "overflow": null,
            "overflow_x": null,
            "overflow_y": null,
            "padding": null,
            "right": null,
            "top": null,
            "visibility": null,
            "width": null
          }
        },
        "9e4c86cc3c3244d6988177a302b0aa04": {
          "model_module": "@jupyter-widgets/controls",
          "model_name": "DescriptionStyleModel",
          "model_module_version": "1.5.0",
          "state": {
            "_model_module": "@jupyter-widgets/controls",
            "_model_module_version": "1.5.0",
            "_model_name": "DescriptionStyleModel",
            "_view_count": null,
            "_view_module": "@jupyter-widgets/base",
            "_view_module_version": "1.2.0",
            "_view_name": "StyleView",
            "description_width": ""
          }
        },
        "08a2e8f23de14f5ba7558f75c5038b84": {
          "model_module": "@jupyter-widgets/base",
          "model_name": "LayoutModel",
          "model_module_version": "1.2.0",
          "state": {
            "_model_module": "@jupyter-widgets/base",
            "_model_module_version": "1.2.0",
            "_model_name": "LayoutModel",
            "_view_count": null,
            "_view_module": "@jupyter-widgets/base",
            "_view_module_version": "1.2.0",
            "_view_name": "LayoutView",
            "align_content": null,
            "align_items": null,
            "align_self": null,
            "border": null,
            "bottom": null,
            "display": null,
            "flex": null,
            "flex_flow": null,
            "grid_area": null,
            "grid_auto_columns": null,
            "grid_auto_flow": null,
            "grid_auto_rows": null,
            "grid_column": null,
            "grid_gap": null,
            "grid_row": null,
            "grid_template_areas": null,
            "grid_template_columns": null,
            "grid_template_rows": null,
            "height": null,
            "justify_content": null,
            "justify_items": null,
            "left": null,
            "margin": null,
            "max_height": null,
            "max_width": null,
            "min_height": null,
            "min_width": null,
            "object_fit": null,
            "object_position": null,
            "order": null,
            "overflow": null,
            "overflow_x": null,
            "overflow_y": null,
            "padding": null,
            "right": null,
            "top": null,
            "visibility": null,
            "width": null
          }
        },
        "99d5db23cddc4ec4baf15009d8f9e565": {
          "model_module": "@jupyter-widgets/controls",
          "model_name": "ProgressStyleModel",
          "model_module_version": "1.5.0",
          "state": {
            "_model_module": "@jupyter-widgets/controls",
            "_model_module_version": "1.5.0",
            "_model_name": "ProgressStyleModel",
            "_view_count": null,
            "_view_module": "@jupyter-widgets/base",
            "_view_module_version": "1.2.0",
            "_view_name": "StyleView",
            "bar_color": null,
            "description_width": ""
          }
        },
        "a16c7c6faa524b478b61721849b9c9b2": {
          "model_module": "@jupyter-widgets/base",
          "model_name": "LayoutModel",
          "model_module_version": "1.2.0",
          "state": {
            "_model_module": "@jupyter-widgets/base",
            "_model_module_version": "1.2.0",
            "_model_name": "LayoutModel",
            "_view_count": null,
            "_view_module": "@jupyter-widgets/base",
            "_view_module_version": "1.2.0",
            "_view_name": "LayoutView",
            "align_content": null,
            "align_items": null,
            "align_self": null,
            "border": null,
            "bottom": null,
            "display": null,
            "flex": null,
            "flex_flow": null,
            "grid_area": null,
            "grid_auto_columns": null,
            "grid_auto_flow": null,
            "grid_auto_rows": null,
            "grid_column": null,
            "grid_gap": null,
            "grid_row": null,
            "grid_template_areas": null,
            "grid_template_columns": null,
            "grid_template_rows": null,
            "height": null,
            "justify_content": null,
            "justify_items": null,
            "left": null,
            "margin": null,
            "max_height": null,
            "max_width": null,
            "min_height": null,
            "min_width": null,
            "object_fit": null,
            "object_position": null,
            "order": null,
            "overflow": null,
            "overflow_x": null,
            "overflow_y": null,
            "padding": null,
            "right": null,
            "top": null,
            "visibility": null,
            "width": null
          }
        },
        "f544ea1ef092464cadbbf2c77e486db1": {
          "model_module": "@jupyter-widgets/controls",
          "model_name": "DescriptionStyleModel",
          "model_module_version": "1.5.0",
          "state": {
            "_model_module": "@jupyter-widgets/controls",
            "_model_module_version": "1.5.0",
            "_model_name": "DescriptionStyleModel",
            "_view_count": null,
            "_view_module": "@jupyter-widgets/base",
            "_view_module_version": "1.2.0",
            "_view_name": "StyleView",
            "description_width": ""
          }
        }
      }
    },
    "accelerator": "GPU",
    "gpuClass": "standard"
  },
  "cells": [
    {
      "cell_type": "markdown",
      "metadata": {
        "id": "view-in-github",
        "colab_type": "text"
      },
      "source": [
        "<a href=\"https://colab.research.google.com/github/FadwaHarrabi/ADHD-detection/blob/main/OptiLand_Ai.ipynb\" target=\"_parent\"><img src=\"https://colab.research.google.com/assets/colab-badge.svg\" alt=\"Open In Colab\"/></a>"
      ]
    },
    {
      "cell_type": "markdown",
      "metadata": {
        "id": "EFpgp_rIA_TY"
      },
      "source": [
        "![image.png](data:image/png;base64,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)"
      ]
    },
    {
      "cell_type": "markdown",
      "source": [
        "# Table of Contents\n",
        "\n",
        "\n",
        "*   [Objectives](#Objectives)\n",
        "*   [Context](#Context)\n",
        "*   [Target Audience](#target-audience)\n",
        "*   [Background & Prerequisites](#background-and-prereqs)\n",
        "*   [Software Requirements](#software-requirements)\n",
        "*   [Data Description](#data-description)\n",
        "*   [Methodology](#methodology)\n",
        "*   [Results](#results)\n",
        "*   [Exercises](#exercises)\n",
        "*   [References](#references)"
      ],
      "metadata": {
        "id": "gchK901cq3hN"
      }
    },
    {
      "cell_type": "markdown",
      "metadata": {
        "id": "Nuv5XES8Ejc_"
      },
      "source": [
        "<a name=\"Objectives\"></a>\n",
        "# Objectives\n",
        "The integration of artificial intelligence (AI) with remote sensing technologies has revolutionized our ability to map land use and land cover changes, providing crucial insights for sustainable land management and environmental conservation.\n",
        "\n",
        "In this colab notebook, we will develop a deep learning model capable of accurately classifying satellite images into 10 land use and land cover (LULC) categories.\n",
        "\n",
        "We will use for training, testing and validation the [EuroSAT dataset](https://arxiv.org/abs/1709.00029)."
      ]
    },
    {
      "cell_type": "markdown",
      "source": [
        "<a name=\"Context\"></a>\n",
        "# Context\n",
        "- A [report](https://www.wri.org/insights/7-things-know-about-ipccs-special-report-climate-change-and-land) by the World Resources Institute (WRI) states that about **23% of global human-caused GHG emissions come from land uses such as agriculture, forestry, and urban expansion**. Land use change such as deforestation and land degradation are among the primary drivers of these emissions. **Rapid urbanization leading to an increase in built-up areas as well as a massive loss of terrestrial carbon storage can also result in large carbon emissions**.\n",
        "\n",
        "- A new special [report](https://www.wri.org/insights/7-things-know-about-ipccs-special-report-climate-change-and-land) from the Intergovernmental Panel on Climate Change (IPCC) states unequivocally that **land is critically important as well—both as a source of greenhouse gas emissions and as a climate change solution**.\n",
        "\n",
        "Mapping the extent of land use and land cover categories over time is essential for better environmental monitoring, urban planning and nature protection. For example, monitoring changes in forest cover and identifying drivers of forest loss can be useful for forest conservation and restoration efforts. Assessing the vulnerability of certain land cover types, such as settlements and agricultural land, to certain risks can also be useful for for disaster risk reduction planning as well as long-term climate adaptation efforts.\n",
        "\n",
        "With the increasing availability of earth observation data coupled with recent advanced in computer vision, AI & EO has paved the way for the potential to map land use and land cover at an unprecedented scale. In this tutorial, we will explore the use of Sentinel-2 satellite images and deep learning models in Pytorch to automate LULC mapping.\n",
        "\n",
        "<br>\n",
        "<center><p><p> <img src=\"https://ptes.org/wp-content/uploads/2018/04/iStock-664630460-e1524839082464.jpg\" alt=\"alt\" width=\"50%\"/>\n",
        "\n",
        "\n"
      ],
      "metadata": {
        "id": "6yqHcIOjZD2c"
      }
    },
    {
      "cell_type": "markdown",
      "source": [
        "<a name=\"Requirements\"></a>\n",
        "# Requirements\n",
        "\n",
        "This notebook requires Python >= 3.7. The following libraries are required:\n",
        " * **tqdm**: A tool to display progress bars for loops or tasks, useful for tracking long processes.\n",
        " * **pandas**: A data manipulation library, ideal for handling and analyzing structured data like tables.\n",
        " * **numpy**: A library for numerical computations, providing fast array operations and mathematical functions.\n",
        " * **matplotlib**: A plotting library for creating visualizations, including static and interactive charts.\n",
        " * **pytorch**: A deep learning framework for building neural networks and performing tensor computations, with GPU support.\n",
        " * **folium** (latest version): A library for interactive mapping.\n",
        " *   **rtree**: A spatial indexing library for efficient geospatial queries.\n",
        " *   **geopandas**: A library for working with geospatial data.\n",
        " *   **geojson**: A library for working with GeoJSON data format.\n",
        " *   **geemap==0.17.3**: A package that provides tools to interact with Google Earth Engine.\n",
        " *   **tornado==5.1.0**: A specific version of Tornado web framework required by geemap.\n",
        " * **rasterio**: A library for reading and writing geospatial raster data.\n",
        " *   **eeconvert**: A library for converting Earth Engine outputs to different formats."
      ],
      "metadata": {
        "id": "PMhFV8gzrqO-"
      }
    },
    {
      "cell_type": "markdown",
      "metadata": {
        "id": "H08M_-5iEbc1"
      },
      "source": [
        "## Enabling GPU in Google Colab\n",
        "We will need access to the T4s GPU currently available in colab.\n",
        "To enable GPU in Google Colab:\n",
        "1. Navigate to Edit→Notebook Settings or Runtime→Change Runtime Type.\n",
        "2. Select GPU from the Hardware Accelerator drop-down."
      ]
    },
    {
      "cell_type": "code",
      "metadata": {
        "id": "Qw688STi6Z6k"
      },
      "source": [
        "# Standard libraries\n",
        "import os\n",
        "import random\n",
        "from tqdm.notebook import tqdm\n",
        "\n",
        "# Data manipulation and visualization\n",
        "import matplotlib.pyplot as plt\n",
        "from PIL import Image\n",
        "import seaborn as sns\n",
        "import pandas as pd\n",
        "import numpy as np\n",
        "\n",
        "# Deep Learning libraries\n",
        "import torch\n",
        "import torchvision\n",
        "import torchsummary\n",
        "from torch.utils import data\n",
        "from torchvision import datasets, models, transforms\n",
        "\n",
        "# Set seed for reproducibility\n",
        "SEED = 42\n",
        "np.random.seed(SEED)"
      ],
      "execution_count": 1,
      "outputs": []
    },
    {
      "cell_type": "markdown",
      "metadata": {
        "id": "8ffVUKx7P6RD"
      },
      "source": [
        "## Google Colab GPU\n",
        "Check that the GPU  enabled in your colab notebook by running the cell below."
      ]
    },
    {
      "cell_type": "code",
      "metadata": {
        "colab": {
          "base_uri": "https://localhost:8080/"
        },
        "id": "GPzhNed7P2i9",
        "outputId": "ed578cf2-de7e-4fdd-915e-00cc02bbdcad"
      },
      "source": [
        "# Check is GPU is enabled\n",
        "device = torch.device(\"cuda:0\" if torch.cuda.is_available() else \"cpu\")\n",
        "print(\"Device: {}\".format(device))\n",
        "\n",
        "# Get specific GPU model\n",
        "if str(device) == \"cuda:0\":\n",
        "  print(\"GPU: {}\".format(torch.cuda.get_device_name(0)))"
      ],
      "execution_count": 2,
      "outputs": [
        {
          "output_type": "stream",
          "name": "stdout",
          "text": [
            "Device: cpu\n"
          ]
        }
      ]
    },
    {
      "cell_type": "markdown",
      "metadata": {
        "id": "qL9_-2ilI0qv"
      },
      "source": [
        "## Mount Drive\n",
        "\n",
        "Mounting the drive will allow the Google Colab notebook to load and access files from your Google drive."
      ]
    },
    {
      "cell_type": "code",
      "metadata": {
        "colab": {
          "base_uri": "https://localhost:8080/"
        },
        "id": "P79X72ZCI2TA",
        "outputId": "bca75d52-62cd-4c32-dc55-e8a35e62bba7"
      },
      "source": [
        "from google.colab import drive\n",
        "drive.mount('/content/drive', force_remount=True)"
      ],
      "execution_count": 3,
      "outputs": [
        {
          "output_type": "stream",
          "name": "stdout",
          "text": [
            "Mounted at /content/drive\n"
          ]
        }
      ]
    },
    {
      "cell_type": "markdown",
      "metadata": {
        "id": "xIQAlBV9GbCZ"
      },
      "source": [
        "<a name=\"data-description\"></a>\n",
        "# Data Description\n",
        "\n",
        "In this section, you will learn how to:\n",
        "- Download the EuroSAT dataset into your Google Drive\n",
        "- Generate the train and test sets by splitting the EuroSAT dataset\n",
        "- Visualize a sample of the images and their LULC labels"
      ]
    },
    {
      "cell_type": "markdown",
      "metadata": {
        "id": "rK0AM2bWGxsw"
      },
      "source": [
        "## EuroSAT Dataset\n",
        "The [EuroSAT dataset](https://github.com/phelber/EuroSAT) contains 27,000 labelled 64x64 pixel Sentinel-2 satellite image patches with 10 different LULC categories. Both RGB and multi-spectral (MS) images are available for download. For simplicity, we will focus on RGB image classification."
      ]
    },
    {
      "cell_type": "code",
      "metadata": {
        "colab": {
          "base_uri": "https://localhost:8080/"
        },
        "id": "_GNyqemwGwr9",
        "outputId": "1c63deb5-fae3-48ad-9dcd-b403dbd133d3"
      },
      "source": [
        "!wget http://madm.dfki.de/files/sentinel/EuroSAT.zip -O EuroSAT.zip\n",
        "!unzip -q EuroSAT.zip -d 'EuroSAT/'\n",
        "!rm EuroSAT.zip"
      ],
      "execution_count": 4,
      "outputs": [
        {
          "output_type": "stream",
          "name": "stdout",
          "text": [
            "--2024-10-11 15:08:01--  http://madm.dfki.de/files/sentinel/EuroSAT.zip\n",
            "Resolving madm.dfki.de (madm.dfki.de)... 131.246.195.183\n",
            "Connecting to madm.dfki.de (madm.dfki.de)|131.246.195.183|:80... connected.\n",
            "HTTP request sent, awaiting response... 200 OK\n",
            "Length: 94280567 (90M) [application/zip]\n",
            "Saving to: ‘EuroSAT.zip’\n",
            "\n",
            "EuroSAT.zip         100%[===================>]  89.91M  18.3MB/s    in 4.9s    \n",
            "\n",
            "2024-10-11 15:08:06 (18.3 MB/s) - ‘EuroSAT.zip’ saved [94280567/94280567]\n",
            "\n"
          ]
        }
      ]
    },
    {
      "cell_type": "markdown",
      "metadata": {
        "id": "qp_i70hQ-ZcX"
      },
      "source": [
        "## Generate Train and Test Sets\n",
        "\n",
        "### Create Custom Dataset Class\n",
        "In Pytorch, the `Dataset` class allows you to define a custom class to load the input and target for a dataset.  We will use this capability to load in our inputs in the form of RGB satellite images along with their corresponding labels. Later we'll learn how to apply necessary image transformations (see next section)."
      ]
    },
    {
      "cell_type": "code",
      "metadata": {
        "id": "SsK-rDJyUFpV"
      },
      "source": [
        "class EuroSAT(data.Dataset):\n",
        "    def __init__(self, dataset, transform=None):\n",
        "        self.dataset = dataset\n",
        "        self.transform = transform\n",
        "\n",
        "    def __getitem__(self, index):\n",
        "        # Apply image transformations\n",
        "        if self.transform:\n",
        "            x = self.transform(dataset[index][0])\n",
        "        else:\n",
        "            x = dataset[index][0]\n",
        "        # Get class label\n",
        "        y = dataset[index][1]\n",
        "        return x, y\n",
        "\n",
        "    def __len__(self):\n",
        "        return len(dataset)"
      ],
      "execution_count": 5,
      "outputs": []
    },
    {
      "cell_type": "markdown",
      "metadata": {
        "id": "H9bbA-_d-Vis"
      },
      "source": [
        "### Data Augmentation\n",
        "\n",
        "Data augmentation is a  technique that randomly applies image transformations, e.g. crops, horizontal flips, and vertical flips, to the input images during model training. These perturbations reduce the neural network's overfitting to the training dataset, and they allow it to generalize better to the unseen test dataset.\n",
        "<br><br>\n",
        "<center> <br>\n",
        "<center> <img src=\"https://miro.medium.com/v2/resize:fit:1100/format:webp/0*ttoU2HOnBI8cb9Y2.png\" width=\"400\"/>\n",
        "<br>\n",
        "<font size=2>Image Source: <a href=\"https://pranjal-ostwal.medium.com/data-augmentation-for-computer-vision-b88b818b6010\">https://pranjal-ostwal.medium.com/data-augmentation-for-computer-vision-b88b818b6010</a></a> </font>\n",
        "<br>\n",
        "</center>\n",
        "</center>\n",
        "<br>\n",
        "<font size=2>Image Source: Ahmad, Jamil & Muhammad, Khan & Baik, Sung. (2017). Data augmentation-assisted deep learning of hand-drawn partially colored sketches for visual search. PLOS ONE. 12. e0183838. 10.1371/journal.pone.0183838. </font>\n",
        "<br>\n",
        "\n",
        "\n",
        "### Image Normalization\n",
        "Additionally, in the cell below, the `transforms.Normalize` method normalizes each of the three channels to the given means and standard deviations defined in the `imagenet_mean` and `imagenet_std` variables. ImageNet is a large training dataset of images and labels.  Later in this tutorial, we will be using a model pre-trained on this dataset.  In order to use this pre-trained model for our LULC dataset, we need to ensure that the input dataset is normalized to have the same statistics (mean and standard deviation) as ImageNet.\n",
        "\n",
        "<br>\n",
        "<center> <img src=\"https://cv.gluon.ai/_images/imagenet_banner.jpeg\" width=\"400\"/>\n",
        "<br>\n",
        "<font size=2>Image Source: <a href=\" https://cv.gluon.ai/build/examples_datasets/imagenet.html\">https://cv.gluon.ai/build/examples_datasets/imagenet.html</a></font>\n",
        "<br>\n",
        "</center>\n",
        "\n",
        "Existing research has found that using models pretrained on massive datasets, such as ImageNet, improves accuracy when applying these neural networks to new datasets.  Pre-trained models serve as excellent generic feature extractors.  [Please read here for more information](https://pytorch.org/tutorials/beginner/finetuning_torchvision_models_tutorial.html)."
      ]
    },
    {
      "cell_type": "code",
      "metadata": {
        "id": "osNVdWjtIQMK"
      },
      "source": [
        "input_size = 224\n",
        "imagenet_mean, imagenet_std = [0.485, 0.456, 0.406], [0.229, 0.224, 0.225]\n",
        "\n",
        "train_transform = transforms.Compose([\n",
        "    transforms.RandomResizedCrop(input_size),\n",
        "    transforms.RandomHorizontalFlip(),\n",
        "    transforms.RandomVerticalFlip(),\n",
        "    transforms.ToTensor(),\n",
        "    transforms.Normalize(imagenet_mean, imagenet_std)\n",
        "])\n",
        "\n",
        "val_transform = transforms.Compose([\n",
        "    transforms.Resize(input_size),\n",
        "    transforms.CenterCrop(input_size),\n",
        "    transforms.ToTensor(),\n",
        "    transforms.Normalize(imagenet_mean, imagenet_std)\n",
        "])\n",
        "\n",
        "test_transform = transforms.Compose([\n",
        "    transforms.Resize(input_size),\n",
        "    transforms.CenterCrop(input_size),\n",
        "    transforms.ToTensor(),\n",
        "    transforms.Normalize(imagenet_mean, imagenet_std)\n",
        "])"
      ],
      "execution_count": 6,
      "outputs": []
    },
    {
      "cell_type": "markdown",
      "metadata": {
        "id": "G-H1Y1rHVz8t"
      },
      "source": [
        "### Load EuroSAT Dataset\n",
        "Let's start by loading the EuroSAT dataset using torch's `ImageFolder` class.\n",
        "\n",
        "`ImageFolder` is a generic data loader where the images are arranged in this way:\n",
        "\n",
        "```\n",
        "    data\n",
        "    └───AnnualCrop\n",
        "    │   │   AnnualCrop_1.jpg\n",
        "    │   │   AnnualCrop_2.jpg\n",
        "    │   │   AnnualCrop_3.jpg\n",
        "    │   │   ...\n",
        "    └───Forest\n",
        "    │   │   Forest_1.jpg\n",
        "    │   │   Forest_2.jpg\n",
        "    │   │   Forest_3.jpg\n",
        "    │   │   ...\n",
        "```\n"
      ]
    },
    {
      "cell_type": "code",
      "metadata": {
        "colab": {
          "base_uri": "https://localhost:8080/"
        },
        "id": "TM7hyGz3Ry8e",
        "outputId": "8c5a5028-97a3-4ede-8a84-8e7ea576048c"
      },
      "source": [
        "# Load the dataset\n",
        "data_dir = './EuroSAT/2750/'\n",
        "dataset = datasets.ImageFolder(data_dir)\n",
        "\n",
        "# Get LULC categories\n",
        "class_names = dataset.classes\n",
        "print(\"Class names: {}\".format(class_names))\n",
        "print(\"Total number of classes: {}\".format(len(class_names)))"
      ],
      "execution_count": 7,
      "outputs": [
        {
          "output_type": "stream",
          "name": "stdout",
          "text": [
            "Class names: ['AnnualCrop', 'Forest', 'HerbaceousVegetation', 'Highway', 'Industrial', 'Pasture', 'PermanentCrop', 'Residential', 'River', 'SeaLake']\n",
            "Total number of classes: 10\n"
          ]
        }
      ]
    },
    {
      "cell_type": "markdown",
      "metadata": {
        "id": "lY8oTO459LXo"
      },
      "source": [
        "### Split into Train, Validation, and Test Sets\n",
        "Here, we split the dataset into a train set and test set. The training set will be 70% of the Eurosat dataset, randomly selected. We set aside 15% of the dataset as our validation set and the remaining 15% as our test set."
      ]
    },
    {
      "cell_type": "code",
      "metadata": {
        "colab": {
          "base_uri": "https://localhost:8080/"
        },
        "id": "s6_Jm_Vt89-L",
        "outputId": "df9cb0b2-95d9-47b2-b9c1-3f8389341b6a"
      },
      "source": [
        "# Apply different transformations to the training and test sets\n",
        "train_data = EuroSAT(dataset, train_transform)\n",
        "val_data = EuroSAT(dataset, val_transform)\n",
        "test_data = EuroSAT(dataset, test_transform)\n",
        "\n",
        "# Randomly split the dataset into 70% train / 15% val / 15% test\n",
        "# by subsetting the transformed train and test datasets\n",
        "train_size = 0.70\n",
        "val_size = 0.15\n",
        "indices = list(range(int(len(dataset))))\n",
        "train_split = int(train_size * len(dataset))\n",
        "val_split = int(val_size * len(dataset))\n",
        "np.random.shuffle(indices)\n",
        "\n",
        "train_data = data.Subset(train_data, indices=indices[:train_split])\n",
        "val_data = data.Subset(val_data, indices=indices[train_split: train_split+val_split])\n",
        "test_data = data.Subset(test_data, indices=indices[train_split+val_split:])\n",
        "print(\"Train/val/test sizes: {}/{}/{}\".format(len(train_data), len(val_data), len(test_data)))"
      ],
      "execution_count": 8,
      "outputs": [
        {
          "output_type": "stream",
          "name": "stdout",
          "text": [
            "Train/val/test sizes: 18900/4050/4050\n"
          ]
        }
      ]
    },
    {
      "cell_type": "markdown",
      "metadata": {
        "id": "JTD1GGkR8Ss4"
      },
      "source": [
        "Finally, we use `torch`'s `DataLoader` class to create a dataloader.  The dataloader manages fetching samples from the datasets (it can even fetch them in parallel using `num_workers`) and assembles batches of the datasets."
      ]
    },
    {
      "cell_type": "code",
      "metadata": {
        "id": "LhoykOhv8LdN"
      },
      "source": [
        "num_workers = 2\n",
        "batch_size = 16\n",
        "\n",
        "train_loader = data.DataLoader(\n",
        "    train_data, batch_size=batch_size, num_workers=num_workers, shuffle=True\n",
        ")\n",
        "val_loader = data.DataLoader(\n",
        "    val_data, batch_size=batch_size, num_workers=num_workers, shuffle=False\n",
        ")\n",
        "test_loader = data.DataLoader(\n",
        "    test_data, batch_size=batch_size, num_workers=num_workers, shuffle=False\n",
        ")"
      ],
      "execution_count": 9,
      "outputs": []
    },
    {
      "cell_type": "markdown",
      "metadata": {
        "id": "BcjHBMnAawgS"
      },
      "source": [
        "## Visualize Data\n",
        "\n",
        "In the cell below, we will visualize a batch of the dataset.  The cell visualizes the input to the neural network (the RGB image) along with the associated label."
      ]
    },
    {
      "cell_type": "code",
      "metadata": {
        "colab": {
          "base_uri": "https://localhost:8080/",
          "height": 675
        },
        "id": "qphYetp0ayIZ",
        "outputId": "62fce784-6127-45d5-fc0f-ebdd0a278f9f"
      },
      "source": [
        "n = 3\n",
        "inputs, classes = next(iter(train_loader))\n",
        "fig, axes = plt.subplots(n, n, figsize=(8, 8))\n",
        "\n",
        "for i in range(n):\n",
        "  for j in range(n):\n",
        "    image = inputs[i * n + j].numpy().transpose((1, 2, 0))\n",
        "    image = np.clip(np.array(imagenet_std) * image + np.array(imagenet_mean), 0, 1)\n",
        "\n",
        "    title = class_names[classes[i * n + j]]\n",
        "    axes[i, j].imshow(image)\n",
        "    axes[i, j].set_title(title)\n",
        "    axes[i, j].axis('off')"
      ],
      "execution_count": 10,
      "outputs": [
        {
          "output_type": "display_data",
          "data": {
            "text/plain": [
              "<Figure size 800x800 with 9 Axes>"
            ],
            "image/png": "[encoded data removed]"
          },
          "metadata": {}
        }
      ]
    },
    {
      "cell_type": "markdown",
      "metadata": {
        "id": "4O-ZKD5KqdMm"
      },
      "source": [
        "# Exploratory Data Analysis\n",
        "\n",
        "Next, let's explore our dataset a little bit more.  In particular, how many images of each class are included?"
      ]
    },
    {
      "cell_type": "code",
      "metadata": {
        "colab": {
          "base_uri": "https://localhost:8080/",
          "height": 457
        },
        "id": "zhHebM9-qiAv",
        "outputId": "4d192c09-af7d-49d4-92cb-c3b77cfe1619"
      },
      "source": [
        "plt.figure(figsize=(6, 3))\n",
        "hist = sns.histplot(dataset.targets)\n",
        "\n",
        "hist.set_xticks(range(len(dataset.classes)))\n",
        "hist.set_xticklabels(dataset.classes, rotation=90)\n",
        "hist.set_title('Histogram of Dataset Classes in EuroSAT Dataset')\n",
        "\n",
        "plt.show()"
      ],
      "execution_count": 11,
      "outputs": [
        {
          "output_type": "display_data",
          "data": {
            "text/plain": [
              "<Figure size 600x300 with 1 Axes>"
            ],
            "image/png": "[encoded data removed]"
          },
          "metadata": {}
        }
      ]
    },
    {
      "cell_type": "markdown",
      "metadata": {
        "id": "AZ3ef1a34gix"
      },
      "source": [
        "# Model Development\n",
        "\n",
        "## Instantiate Model\n",
        "\n",
        "First, let's instatiate the model.  To start, we will use a standard neural network architecture, called ResNet50. Based on [the work by Helber et al.](https://arxiv.org/pdf/1709.00029.pdf), ResNet-50 has been shown to work well for LULC classification on the EuroSAT\n",
        "\n",
        "### ResNet-50\n",
        "<b>Recall</b>: Deep neural networks are difficult to train due to the problem of vanishing or exploding gradients (repeated multiplication making the gradient infinitively small). ResNet solves this by using shortcut connections that connect activation from an earlier layer to a further layer by skipping one or more layers as shown below. This allows for gradients to propagate to the deeper layers before they can be reduced to small or zero values.\n",
        "<br><br>\n",
        "\n",
        "<center> <img src=\"https://jananisbabu.github.io/ResNet50_From_Scratch_Tensorflow/images/resnet50.png\" width=\"600\"/><br>\n",
        "Image source: <a href=\"https://jananisbabu.github.io/ResNet50_From_Scratch_Tensorflow/\">https://jananisbabu.github.io/ResNet50_From_Scratch_Tensorflow/  </a>\n",
        "</center>\n",
        "<br>\n",
        "\n",
        "Note that when we load the model, we set the `weights=models.ResNet50_Weights.DEFAULT` to indicate that the loaded model should be already pre-trained on the Imagenet dataset. We also modify the final layer so that the output matches the number of classes in our dataset."
      ]
    },
    {
      "cell_type": "code",
      "metadata": {
        "colab": {
          "base_uri": "https://localhost:8080/"
        },
        "id": "gPXbNl_TLHQQ",
        "outputId": "95f89e85-5021-4f6d-832f-983430954b3a"
      },
      "source": [
        "model = models.resnet50(weights=models.ResNet50_Weights.DEFAULT)\n",
        "model.fc = torch.nn.Linear(model.fc.in_features, len(dataset.classes))\n",
        "model = model.to(device)\n",
        "torchsummary.summary(model, (3, 224, 224))"
      ],
      "execution_count": 12,
      "outputs": [
        {
          "output_type": "stream",
          "name": "stderr",
          "text": [
            "Downloading: \"https://download.pytorch.org/models/resnet50-11ad3fa6.pth\" to /root/.cache/torch/hub/checkpoints/resnet50-11ad3fa6.pth\n",
            "100%|██████████| 97.8M/97.8M [00:01<00:00, 91.9MB/s]\n"
          ]
        },
        {
          "output_type": "stream",
          "name": "stdout",
          "text": [
            "----------------------------------------------------------------\n",
            "        Layer (type)               Output Shape         Param #\n",
            "================================================================\n",
            "            Conv2d-1         [-1, 64, 112, 112]           9,408\n",
            "       BatchNorm2d-2         [-1, 64, 112, 112]             128\n",
            "              ReLU-3         [-1, 64, 112, 112]               0\n",
            "         MaxPool2d-4           [-1, 64, 56, 56]               0\n",
            "            Conv2d-5           [-1, 64, 56, 56]           4,096\n",
            "       BatchNorm2d-6           [-1, 64, 56, 56]             128\n",
            "              ReLU-7           [-1, 64, 56, 56]               0\n",
            "            Conv2d-8           [-1, 64, 56, 56]          36,864\n",
            "       BatchNorm2d-9           [-1, 64, 56, 56]             128\n",
            "             ReLU-10           [-1, 64, 56, 56]               0\n",
            "           Conv2d-11          [-1, 256, 56, 56]          16,384\n",
            "      BatchNorm2d-12          [-1, 256, 56, 56]             512\n",
            "           Conv2d-13          [-1, 256, 56, 56]          16,384\n",
            "      BatchNorm2d-14          [-1, 256, 56, 56]             512\n",
            "             ReLU-15          [-1, 256, 56, 56]               0\n",
            "       Bottleneck-16          [-1, 256, 56, 56]               0\n",
            "           Conv2d-17           [-1, 64, 56, 56]          16,384\n",
            "      BatchNorm2d-18           [-1, 64, 56, 56]             128\n",
            "             ReLU-19           [-1, 64, 56, 56]               0\n",
            "           Conv2d-20           [-1, 64, 56, 56]          36,864\n",
            "      BatchNorm2d-21           [-1, 64, 56, 56]             128\n",
            "             ReLU-22           [-1, 64, 56, 56]               0\n",
            "           Conv2d-23          [-1, 256, 56, 56]          16,384\n",
            "      BatchNorm2d-24          [-1, 256, 56, 56]             512\n",
            "             ReLU-25          [-1, 256, 56, 56]               0\n",
            "       Bottleneck-26          [-1, 256, 56, 56]               0\n",
            "           Conv2d-27           [-1, 64, 56, 56]          16,384\n",
            "      BatchNorm2d-28           [-1, 64, 56, 56]             128\n",
            "             ReLU-29           [-1, 64, 56, 56]               0\n",
            "           Conv2d-30           [-1, 64, 56, 56]          36,864\n",
            "      BatchNorm2d-31           [-1, 64, 56, 56]             128\n",
            "             ReLU-32           [-1, 64, 56, 56]               0\n",
            "           Conv2d-33          [-1, 256, 56, 56]          16,384\n",
            "      BatchNorm2d-34          [-1, 256, 56, 56]             512\n",
            "             ReLU-35          [-1, 256, 56, 56]               0\n",
            "       Bottleneck-36          [-1, 256, 56, 56]               0\n",
            "           Conv2d-37          [-1, 128, 56, 56]          32,768\n",
            "      BatchNorm2d-38          [-1, 128, 56, 56]             256\n",
            "             ReLU-39          [-1, 128, 56, 56]               0\n",
            "           Conv2d-40          [-1, 128, 28, 28]         147,456\n",
            "      BatchNorm2d-41          [-1, 128, 28, 28]             256\n",
            "             ReLU-42          [-1, 128, 28, 28]               0\n",
            "           Conv2d-43          [-1, 512, 28, 28]          65,536\n",
            "      BatchNorm2d-44          [-1, 512, 28, 28]           1,024\n",
            "           Conv2d-45          [-1, 512, 28, 28]         131,072\n",
            "      BatchNorm2d-46          [-1, 512, 28, 28]           1,024\n",
            "             ReLU-47          [-1, 512, 28, 28]               0\n",
            "       Bottleneck-48          [-1, 512, 28, 28]               0\n",
            "           Conv2d-49          [-1, 128, 28, 28]          65,536\n",
            "      BatchNorm2d-50          [-1, 128, 28, 28]             256\n",
            "             ReLU-51          [-1, 128, 28, 28]               0\n",
            "           Conv2d-52          [-1, 128, 28, 28]         147,456\n",
            "      BatchNorm2d-53          [-1, 128, 28, 28]             256\n",
            "             ReLU-54          [-1, 128, 28, 28]               0\n",
            "           Conv2d-55          [-1, 512, 28, 28]          65,536\n",
            "      BatchNorm2d-56          [-1, 512, 28, 28]           1,024\n",
            "             ReLU-57          [-1, 512, 28, 28]               0\n",
            "       Bottleneck-58          [-1, 512, 28, 28]               0\n",
            "           Conv2d-59          [-1, 128, 28, 28]          65,536\n",
            "      BatchNorm2d-60          [-1, 128, 28, 28]             256\n",
            "             ReLU-61          [-1, 128, 28, 28]               0\n",
            "           Conv2d-62          [-1, 128, 28, 28]         147,456\n",
            "      BatchNorm2d-63          [-1, 128, 28, 28]             256\n",
            "             ReLU-64          [-1, 128, 28, 28]               0\n",
            "           Conv2d-65          [-1, 512, 28, 28]          65,536\n",
            "      BatchNorm2d-66          [-1, 512, 28, 28]           1,024\n",
            "             ReLU-67          [-1, 512, 28, 28]               0\n",
            "       Bottleneck-68          [-1, 512, 28, 28]               0\n",
            "           Conv2d-69          [-1, 128, 28, 28]          65,536\n",
            "      BatchNorm2d-70          [-1, 128, 28, 28]             256\n",
            "             ReLU-71          [-1, 128, 28, 28]               0\n",
            "           Conv2d-72          [-1, 128, 28, 28]         147,456\n",
            "      BatchNorm2d-73          [-1, 128, 28, 28]             256\n",
            "             ReLU-74          [-1, 128, 28, 28]               0\n",
            "           Conv2d-75          [-1, 512, 28, 28]          65,536\n",
            "      BatchNorm2d-76          [-1, 512, 28, 28]           1,024\n",
            "             ReLU-77          [-1, 512, 28, 28]               0\n",
            "       Bottleneck-78          [-1, 512, 28, 28]               0\n",
            "           Conv2d-79          [-1, 256, 28, 28]         131,072\n",
            "      BatchNorm2d-80          [-1, 256, 28, 28]             512\n",
            "             ReLU-81          [-1, 256, 28, 28]               0\n",
            "           Conv2d-82          [-1, 256, 14, 14]         589,824\n",
            "      BatchNorm2d-83          [-1, 256, 14, 14]             512\n",
            "             ReLU-84          [-1, 256, 14, 14]               0\n",
            "           Conv2d-85         [-1, 1024, 14, 14]         262,144\n",
            "      BatchNorm2d-86         [-1, 1024, 14, 14]           2,048\n",
            "           Conv2d-87         [-1, 1024, 14, 14]         524,288\n",
            "      BatchNorm2d-88         [-1, 1024, 14, 14]           2,048\n",
            "             ReLU-89         [-1, 1024, 14, 14]               0\n",
            "       Bottleneck-90         [-1, 1024, 14, 14]               0\n",
            "           Conv2d-91          [-1, 256, 14, 14]         262,144\n",
            "      BatchNorm2d-92          [-1, 256, 14, 14]             512\n",
            "             ReLU-93          [-1, 256, 14, 14]               0\n",
            "           Conv2d-94          [-1, 256, 14, 14]         589,824\n",
            "      BatchNorm2d-95          [-1, 256, 14, 14]             512\n",
            "             ReLU-96          [-1, 256, 14, 14]               0\n",
            "           Conv2d-97         [-1, 1024, 14, 14]         262,144\n",
            "      BatchNorm2d-98         [-1, 1024, 14, 14]           2,048\n",
            "             ReLU-99         [-1, 1024, 14, 14]               0\n",
            "      Bottleneck-100         [-1, 1024, 14, 14]               0\n",
            "          Conv2d-101          [-1, 256, 14, 14]         262,144\n",
            "     BatchNorm2d-102          [-1, 256, 14, 14]             512\n",
            "            ReLU-103          [-1, 256, 14, 14]               0\n",
            "          Conv2d-104          [-1, 256, 14, 14]         589,824\n",
            "     BatchNorm2d-105          [-1, 256, 14, 14]             512\n",
            "            ReLU-106          [-1, 256, 14, 14]               0\n",
            "          Conv2d-107         [-1, 1024, 14, 14]         262,144\n",
            "     BatchNorm2d-108         [-1, 1024, 14, 14]           2,048\n",
            "            ReLU-109         [-1, 1024, 14, 14]               0\n",
            "      Bottleneck-110         [-1, 1024, 14, 14]               0\n",
            "          Conv2d-111          [-1, 256, 14, 14]         262,144\n",
            "     BatchNorm2d-112          [-1, 256, 14, 14]             512\n",
            "            ReLU-113          [-1, 256, 14, 14]               0\n",
            "          Conv2d-114          [-1, 256, 14, 14]         589,824\n",
            "     BatchNorm2d-115          [-1, 256, 14, 14]             512\n",
            "            ReLU-116          [-1, 256, 14, 14]               0\n",
            "          Conv2d-117         [-1, 1024, 14, 14]         262,144\n",
            "     BatchNorm2d-118         [-1, 1024, 14, 14]           2,048\n",
            "            ReLU-119         [-1, 1024, 14, 14]               0\n",
            "      Bottleneck-120         [-1, 1024, 14, 14]               0\n",
            "          Conv2d-121          [-1, 256, 14, 14]         262,144\n",
            "     BatchNorm2d-122          [-1, 256, 14, 14]             512\n",
            "            ReLU-123          [-1, 256, 14, 14]               0\n",
            "          Conv2d-124          [-1, 256, 14, 14]         589,824\n",
            "     BatchNorm2d-125          [-1, 256, 14, 14]             512\n",
            "            ReLU-126          [-1, 256, 14, 14]               0\n",
            "          Conv2d-127         [-1, 1024, 14, 14]         262,144\n",
            "     BatchNorm2d-128         [-1, 1024, 14, 14]           2,048\n",
            "            ReLU-129         [-1, 1024, 14, 14]               0\n",
            "      Bottleneck-130         [-1, 1024, 14, 14]               0\n",
            "          Conv2d-131          [-1, 256, 14, 14]         262,144\n",
            "     BatchNorm2d-132          [-1, 256, 14, 14]             512\n",
            "            ReLU-133          [-1, 256, 14, 14]               0\n",
            "          Conv2d-134          [-1, 256, 14, 14]         589,824\n",
            "     BatchNorm2d-135          [-1, 256, 14, 14]             512\n",
            "            ReLU-136          [-1, 256, 14, 14]               0\n",
            "          Conv2d-137         [-1, 1024, 14, 14]         262,144\n",
            "     BatchNorm2d-138         [-1, 1024, 14, 14]           2,048\n",
            "            ReLU-139         [-1, 1024, 14, 14]               0\n",
            "      Bottleneck-140         [-1, 1024, 14, 14]               0\n",
            "          Conv2d-141          [-1, 512, 14, 14]         524,288\n",
            "     BatchNorm2d-142          [-1, 512, 14, 14]           1,024\n",
            "            ReLU-143          [-1, 512, 14, 14]               0\n",
            "          Conv2d-144            [-1, 512, 7, 7]       2,359,296\n",
            "     BatchNorm2d-145            [-1, 512, 7, 7]           1,024\n",
            "            ReLU-146            [-1, 512, 7, 7]               0\n",
            "          Conv2d-147           [-1, 2048, 7, 7]       1,048,576\n",
            "     BatchNorm2d-148           [-1, 2048, 7, 7]           4,096\n",
            "          Conv2d-149           [-1, 2048, 7, 7]       2,097,152\n",
            "     BatchNorm2d-150           [-1, 2048, 7, 7]           4,096\n",
            "            ReLU-151           [-1, 2048, 7, 7]               0\n",
            "      Bottleneck-152           [-1, 2048, 7, 7]               0\n",
            "          Conv2d-153            [-1, 512, 7, 7]       1,048,576\n",
            "     BatchNorm2d-154            [-1, 512, 7, 7]           1,024\n",
            "            ReLU-155            [-1, 512, 7, 7]               0\n",
            "          Conv2d-156            [-1, 512, 7, 7]       2,359,296\n",
            "     BatchNorm2d-157            [-1, 512, 7, 7]           1,024\n",
            "            ReLU-158            [-1, 512, 7, 7]               0\n",
            "          Conv2d-159           [-1, 2048, 7, 7]       1,048,576\n",
            "     BatchNorm2d-160           [-1, 2048, 7, 7]           4,096\n",
            "            ReLU-161           [-1, 2048, 7, 7]               0\n",
            "      Bottleneck-162           [-1, 2048, 7, 7]               0\n",
            "          Conv2d-163            [-1, 512, 7, 7]       1,048,576\n",
            "     BatchNorm2d-164            [-1, 512, 7, 7]           1,024\n",
            "            ReLU-165            [-1, 512, 7, 7]               0\n",
            "          Conv2d-166            [-1, 512, 7, 7]       2,359,296\n",
            "     BatchNorm2d-167            [-1, 512, 7, 7]           1,024\n",
            "            ReLU-168            [-1, 512, 7, 7]               0\n",
            "          Conv2d-169           [-1, 2048, 7, 7]       1,048,576\n",
            "     BatchNorm2d-170           [-1, 2048, 7, 7]           4,096\n",
            "            ReLU-171           [-1, 2048, 7, 7]               0\n",
            "      Bottleneck-172           [-1, 2048, 7, 7]               0\n",
            "AdaptiveAvgPool2d-173           [-1, 2048, 1, 1]               0\n",
            "          Linear-174                   [-1, 10]          20,490\n",
            "================================================================\n",
            "Total params: 23,528,522\n",
            "Trainable params: 23,528,522\n",
            "Non-trainable params: 0\n",
            "----------------------------------------------------------------\n",
            "Input size (MB): 0.57\n",
            "Forward/backward pass size (MB): 286.55\n",
            "Params size (MB): 89.75\n",
            "Estimated Total Size (MB): 376.88\n",
            "----------------------------------------------------------------\n"
          ]
        }
      ]
    },
    {
      "cell_type": "markdown",
      "metadata": {
        "id": "gGf__UVfNNOO"
      },
      "source": [
        "## Model Training and Evaluation\n",
        "\n",
        "We can now proceed to model training and evaluation.\n",
        "\n",
        "This section has three major parts:\n",
        "\n",
        "1. Specify the criterion, optimizer, and hyperparameters (e.g. n_epochs, learning rate, etc.).\n",
        "2. Train the model on the training set by updating its weights to minimize the loss function.\n",
        "3. Evaluate the model on the test set to observe performance on new, unseen data.\n",
        "4. Repeat steps 2 and 3 `n_epochs` times."
      ]
    },
    {
      "cell_type": "markdown",
      "metadata": {
        "id": "3waPRdOai7AB"
      },
      "source": [
        "### Cross Entropy Loss\n",
        "We define our loss as the cross-entropy loss, which measures the performance of a classification model whose output is a probability value between 0 and 1. Cross-entropy loss increases as the predicted probability diverges from the actual label. ([Source](https://ml-cheatsheet.readthedocs.io/en/latest/loss_functions.html))\n",
        "\n",
        "For two classes, it is computed as:\n",
        "\n",
        "$−ylog(p)-(1−y)log(1−p)$\n",
        "\n",
        "For multiclass classification with $M$ classes, it is defined as:\n",
        "\n",
        "$−\\sum_{c=1}^{M}y_{o,c}log(p_{o,c})$\n",
        "\n",
        "where\n",
        "\n",
        "- $M$ - number of classes (dog, cat, fish)\n",
        "- $log$ - the natural log\n",
        "- $y_{o,c}$ - binary indicator (0 or 1) if class label $c$ is the classification for observation $o$\n",
        "- $p_{o,c}$- predicted probability observation $o$ is of class $c$\n",
        "\n",
        "### Stochastic Gradient Descent\n",
        "Remember that the goal of stochastic gradient descent (SGD) is to minimize the loss function. To do this, it computes the slope (gradient) of the loss function at the current point and moves in the opposite direction of the slope towards the steepest descent.\n",
        "<center> <img src=\"https://miro.medium.com/max/1400/1*P7z2BKhd0R-9uyn9ThDasA.png\" width=\"350\"/><br>Image source:\n",
        "<a href=\"https://towardsdatascience.com/batch-mini-batch-stochastic-gradient-descent-7a62ecba642a\">https://towardsdatascience.com/batch-mini-batch-stochastic-gradient-descent-7a62ecba642a</a>\n",
        "</center>\n",
        "<br>"
      ]
    },
    {
      "cell_type": "code",
      "metadata": {
        "id": "fap-QROui8Pr"
      },
      "source": [
        "# Specify number of epochs and learning rate\n",
        "n_epochs = 10\n",
        "lr = 1e-3\n",
        "\n",
        "# Specify criterion and optimizer\n",
        "criterion = torch.nn.CrossEntropyLoss()\n",
        "optimizer = torch.optim.SGD(model.parameters(), lr=lr)"
      ],
      "execution_count": 13,
      "outputs": []
    },
    {
      "cell_type": "markdown",
      "source": [
        "Next. let's create our training function."
      ],
      "metadata": {
        "id": "par-N39lvb6Y"
      }
    },
    {
      "cell_type": "code",
      "metadata": {
        "id": "eE4entSvNc2q"
      },
      "source": [
        "def train(model, dataloader, criterion, optimizer):\n",
        "  model.train()\n",
        "\n",
        "  running_loss = 0.0\n",
        "  running_total_correct = 0.0\n",
        "\n",
        "  for i, (inputs, labels) in enumerate(tqdm(dataloader)):\n",
        "    inputs = inputs.to(device)\n",
        "    labels = labels.to(device)\n",
        "\n",
        "    # Zero the parameter gradients\n",
        "    # Clear off previous weights in order\n",
        "    # to obtain updated weights.\n",
        "    optimizer.zero_grad()\n",
        "\n",
        "    # Forward pass\n",
        "    outputs = model(inputs)\n",
        "\n",
        "    # Compute the loss\n",
        "    loss = criterion(outputs, labels)\n",
        "\n",
        "    # Compute the gradients wrt the loss\n",
        "    loss.backward()\n",
        "\n",
        "    # Update the weights based on the\n",
        "    # internally stored gradients\n",
        "    optimizer.step()\n",
        "\n",
        "    # Calculate statistics\n",
        "    _, preds = torch.max(outputs, 1)\n",
        "\n",
        "    # Calculate running loss and accuracy\n",
        "    running_loss += loss.item() * inputs.size(0)\n",
        "    running_total_correct += torch.sum(preds == labels)\n",
        "\n",
        "  # Calculate epoch loss and accuracy\n",
        "  epoch_loss = running_loss / len(dataloader.dataset)\n",
        "  epoch_accuracy = (running_total_correct / len(dataloader.dataset)) * 100\n",
        "  print(f\"Train Loss: {epoch_loss:.2f}; Accuracy: {epoch_accuracy:.2f}\")\n",
        "\n",
        "  return epoch_loss, epoch_accuracy"
      ],
      "execution_count": 14,
      "outputs": []
    },
    {
      "cell_type": "markdown",
      "metadata": {
        "id": "9D2XrpGxtJ9w"
      },
      "source": [
        "Next, let's define the model evaluation function."
      ]
    },
    {
      "cell_type": "code",
      "metadata": {
        "id": "uvjKlBsNP_pF"
      },
      "source": [
        "def evaluate(model, dataloader, criterion, phase=\"val\"):\n",
        "  model.eval()\n",
        "\n",
        "  running_loss = 0.0\n",
        "  running_total_correct = 0.0\n",
        "\n",
        "  for i, (inputs, labels) in enumerate(tqdm(dataloader)):\n",
        "    inputs = inputs.to(device)\n",
        "    labels = labels.to(device)\n",
        "\n",
        "    with torch.set_grad_enabled(False):\n",
        "      outputs = model(inputs)\n",
        "      loss = criterion(outputs, labels)\n",
        "      _, preds = torch.max(outputs, 1)\n",
        "\n",
        "    running_loss += loss.item() * inputs.size(0)\n",
        "    running_total_correct += torch.sum(preds == labels)\n",
        "\n",
        "  # Calculate epoch loss and accuracy\n",
        "  epoch_loss = running_loss / len(dataloader.dataset)\n",
        "  epoch_accuracy = (running_total_correct / len(dataloader.dataset)) * 100\n",
        "  print(f\"{phase.title()} Loss: {epoch_loss:.2f}; Accuracy: {epoch_accuracy:.2f}\")\n",
        "\n",
        "  return epoch_loss, epoch_accuracy"
      ],
      "execution_count": 15,
      "outputs": []
    },
    {
      "cell_type": "markdown",
      "source": [
        "Putting it all together, we define the `fit` function for training and evaluating the model on the training set and validation set, respectively."
      ],
      "metadata": {
        "id": "z9Zj-K8uox_h"
      }
    },
    {
      "cell_type": "code",
      "metadata": {
        "id": "KNgDSfQDMSFI"
      },
      "source": [
        "def fit(model, train_loader, val_loader, n_epochs, lr, criterion, optimizer):\n",
        "  # Keep track of the best loss and\n",
        "  # best model weights with the lowest loss\n",
        "  best_loss = np.inf\n",
        "  best_model = None\n",
        "\n",
        "  # Train and test over n_epochs\n",
        "  for epoch in range(n_epochs):\n",
        "    print(\"Epoch {}\".format(epoch+1))\n",
        "    train(model, train_loader, criterion, optimizer)\n",
        "    val_loss, _ = evaluate(model, val_loader, criterion)\n",
        "\n",
        "    if val_loss < best_loss:\n",
        "      best_loss = val_loss\n",
        "      best_model = model\n",
        "\n",
        "  return best_model"
      ],
      "execution_count": 16,
      "outputs": []
    },
    {
      "cell_type": "markdown",
      "metadata": {
        "id": "FzTl0FX3tN8m"
      },
      "source": [
        "We can now commence model training and evaluation in the following cell."
      ]
    },
    {
      "cell_type": "code",
      "source": [
        "best_model = fit(model, train_loader, val_loader, n_epochs, lr, criterion, optimizer)"
      ],
      "metadata": {
        "colab": {
          "base_uri": "https://localhost:8080/",
          "height": 66,
          "referenced_widgets": [
            "02a29041304c4d8a871ac6abc42188a8",
            "b78baf4111674cb28761a90e6ab4def1",
            "20e564fed1df4343b13c3e4ac970c138",
            "626203e1443b4c3884bdf497a8575b79",
            "5c7f747ec64c4787b829b358c5ca8e96",
            "ca148b45a77b48879c5cd8a8c0e457c6",
            "9e4c86cc3c3244d6988177a302b0aa04",
            "08a2e8f23de14f5ba7558f75c5038b84",
            "99d5db23cddc4ec4baf15009d8f9e565",
            "a16c7c6faa524b478b61721849b9c9b2",
            "f544ea1ef092464cadbbf2c77e486db1"
          ]
        },
        "id": "Uy0FvQkumiN6",
        "outputId": "20b1f95c-cffc-418f-b071-4bbd7c61b320"
      },
      "execution_count": null,
      "outputs": [
        {
          "output_type": "stream",
          "name": "stdout",
          "text": [
            "Epoch 1\n"
          ]
        },
        {
          "output_type": "display_data",
          "data": {
            "text/plain": [
              "  0%|          | 0/1182 [00:00<?, ?it/s]"
            ],
            "application/vnd.jupyter.widget-view+json": {
              "version_major": 2,
              "version_minor": 0,
              "model_id": "02a29041304c4d8a871ac6abc42188a8"
            }
          },
          "metadata": {}
        }
      ]
    },
    {
      "cell_type": "markdown",
      "source": [
        "In the above example, we only trained the model for 10 epochs. In practice, you'll want to train the model for much longer to achieve the best results."
      ],
      "metadata": {
        "id": "J3HPljIKqYyK"
      }
    },
    {
      "cell_type": "markdown",
      "source": [
        "## Model Performance on the Test Set\n",
        "Using the best model from the previous steps, we can evaluate the model performance on the test set."
      ],
      "metadata": {
        "id": "o-4SbmYgu-ZS"
      }
    },
    {
      "cell_type": "code",
      "source": [
        "test_loss, _ = evaluate(best_model, test_loader, criterion, phase=\"test\")"
      ],
      "metadata": {
        "id": "Cdf5Qn8Juq4K"
      },
      "execution_count": null,
      "outputs": []
    },
    {
      "cell_type": "markdown",
      "metadata": {
        "id": "14oPIiaqb-hI"
      },
      "source": [
        "## Save Model\n",
        "\n",
        "Let's define a function for saving the model to our local Google drive as follows.\n"
      ]
    },
    {
      "cell_type": "code",
      "source": [
        "model_dir = \"./drive/My Drive/Colab Notebooks/models/\"\n",
        "if not os.path.exists(model_dir):\n",
        "  os.makedirs(model_dir)\n",
        "\n",
        "model_file = os.path.join(model_dir, 'best_model.pth')\n",
        "model_file"
      ],
      "metadata": {
        "id": "riBvu9R8rV7h"
      },
      "execution_count": null,
      "outputs": []
    },
    {
      "cell_type": "code",
      "metadata": {
        "id": "txqSMimEO5B1"
      },
      "source": [
        "def save_model(best_model, model_file):\n",
        "  torch.save(best_model.state_dict(), model_file)\n",
        "  print('Model successfully saved to {}.'.format(model_file))"
      ],
      "execution_count": null,
      "outputs": []
    },
    {
      "cell_type": "code",
      "source": [
        "save_model(best_model, model_file)"
      ],
      "metadata": {
        "id": "em2xesOoRNr2"
      },
      "execution_count": null,
      "outputs": []
    },
    {
      "cell_type": "markdown",
      "metadata": {
        "id": "zeqCoai8hcYr"
      },
      "source": [
        "## Load Model\n",
        "Here we show you how to load the saved model from the previous step."
      ]
    },
    {
      "cell_type": "code",
      "metadata": {
        "id": "oRRJ0vlCheDD",
        "collapsed": true
      },
      "source": [
        "def load_model(model_file):\n",
        "  # Uncomment this to download the model file\n",
        "  #if not os.path.isfile(model_file):\n",
        "  #  model_file = 'best_model.pth'\n",
        "  #  !gdown \"13AFOESwxKmexCoOeAbPSX_wr-hGOb9YY\"\n",
        "\n",
        "  model = models.resnet50(weights=models.ResNet50_Weights.DEFAULT)\n",
        "  model.fc = torch.nn.Linear(model.fc.in_features, 10)\n",
        "  model.load_state_dict(torch.load(model_file))\n",
        "  model.eval()\n",
        "\n",
        "  print('Model file {} successfully loaded.'.format(model_file))\n",
        "  return model"
      ],
      "execution_count": null,
      "outputs": []
    },
    {
      "cell_type": "code",
      "source": [
        "model = load_model(model_file)"
      ],
      "metadata": {
        "id": "9CnI7XOQSiP0"
      },
      "execution_count": null,
      "outputs": []
    },
    {
      "cell_type": "markdown",
      "metadata": {
        "id": "G6c20o6xcnZ6"
      },
      "source": [
        "<a name=\"results\"></a>\n",
        "# Results\n",
        "\n",
        "Let's visualize an example of the neural network making a prediction."
      ]
    },
    {
      "cell_type": "code",
      "metadata": {
        "id": "77fAZ7xEglBX"
      },
      "source": [
        "# Retrieve sample image\n",
        "index = 15\n",
        "image, label = test_data[index]\n",
        "\n",
        "# Predict on sample\n",
        "model = model.to(\"cpu\")\n",
        "output = model(image.unsqueeze(0))\n",
        "_, pred = torch.max(output, 1)\n",
        "\n",
        "# Get corresponding class label\n",
        "label = class_names[label]\n",
        "pred = class_names[pred[0]]\n",
        "\n",
        "# Visualize sample and prediction\n",
        "image = image.cpu().numpy().transpose((1, 2, 0))\n",
        "image = np.clip(np.array(imagenet_std) * image + np.array(imagenet_mean), 0, 1)\n",
        "\n",
        "fig, ax = plt.subplots(figsize=(3, 3))\n",
        "ax.imshow(image)\n",
        "ax.set_title(\"Predicted class: {}\\nActual Class: {}\".format(pred, label));"
      ],
      "execution_count": null,
      "outputs": []
    },
    {
      "cell_type": "markdown",
      "metadata": {
        "id": "PvUL5a5Gp5fC"
      },
      "source": [
        "Here, we show how to run the model on a PIL image."
      ]
    },
    {
      "cell_type": "code",
      "metadata": {
        "id": "YuMyKEFjdvvn"
      },
      "source": [
        "from PIL import Image\n",
        "image_path = './EuroSAT/2750/Forest/Forest_2.jpg'\n",
        "image = Image.open(image_path)\n",
        "\n",
        "# Transform image\n",
        "input = test_transform(image)\n",
        "\n",
        "# Predict on sample\n",
        "output = model(input.unsqueeze(0))\n",
        "\n",
        "# Get corresponding class label\n",
        "_, pred = torch.max(output, 1)\n",
        "pred = class_names[pred[0]]\n",
        "\n",
        "# Visualize results\n",
        "fig, ax = plt.subplots(figsize=(3,3))\n",
        "ax.imshow(image)\n",
        "ax.set_title(\"Predicted class: {}\".format(pred));"
      ],
      "execution_count": null,
      "outputs": []
    },
    {
      "cell_type": "markdown",
      "metadata": {
        "id": "NYk0TXtZ0G4Y"
      },
      "source": [
        "# References\n",
        "- Helber, P., Bischke, B., Dengel, A., & Borth, D. (2019). Eurosat: A novel dataset and deep learning benchmark for land use and land cover classification. IEEE Journal of Selected Topics in Applied Earth Observations and Remote Sensing, 12(7), 2217-2226.\n",
        "- Wang, Y., Braham, N. A. A., Xiong, Z., Liu, C., Albrecht, C. M., & Zhu, X. X. (2023). SSL4EO-S12: A large-scale multimodal, multitemporal dataset for self-supervised learning in Earth observation [Software and Data Sets]. IEEE Geoscience and Remote Sensing Magazine, 11(3), 98-106."
      ]
    },
    {
      "cell_type": "markdown",
      "metadata": {
        "id": "s_UfmKI-KF3t"
      },
      "source": [
        "# Automating Land Use and Land Cover Mapping using Python\n",
        "**Content Creators**: Ankur Mahesh and Isabelle Tingzon\n",
        "\n",
        "This is a continuation of [Part 1 of the Land Use and Land Cover (LULC) Mapping Tutorial](https://github.com/climatechange-ai-tutorials/lulc-classification/blob/main/land_use_land_cover_part1.ipynb). Previously, you learned how to train a deep learning model to classify Sentinel-2 image patches into different land use and land cover categories.\n",
        "\n",
        "In this tutorial, you will learn how to:\n",
        "- download your own Sentinel-2A satellite images using Google Earth Engine\n",
        "- use the trained model from the previous tutorial to automatically generate a LULC map for a region of interest\n",
        "\n",
        "You can make a copy of this tutorial by navigating to File->Save a copy in Drive.\n",
        "\n",
        "## Table of Contents\n",
        "1. [Introduction to Geospatial Data]()\n",
        "2. [Download Country Boundaries](#admin-bounds)\n",
        "3. [Generate Sentinel-2 Satellite Image](#sentinel-2)\n",
        "4. [Generate 64x64 px GeoJSON Tiles](#tiles)\n",
        "5. [Generate LULC Map](#lulc-maps)\n",
        "6. [Conclusion & Next Steps]()"
      ]
    },
    {
      "cell_type": "markdown",
      "metadata": {
        "id": "CaiH9CgIoHp-"
      },
      "source": [
        "# Introduction to Geospatial Data\n",
        "\n",
        "This tutorial covers an introduction to geospatial data processing using Python. Our aim is to introduce basic concepts and commonly used tools to manipulate, analyze, and visualize geospatial data. Our targeted audience are those who are new to Python as a tool for geospatial data analysis, as well as beginners in geospatial data analysis and are looking for tools to get started."
      ]
    },
    {
      "cell_type": "markdown",
      "metadata": {
        "id": "YvDhYa_-sdet"
      },
      "source": [
        "## Spatial Data Types\n",
        "Spatial data observations focus on *location*. There are two main types of spatial data:\n",
        "- **Vector data** - are basically points, lines, and polygons. Each vector object can consist of one or more XY coordinate locations. Vectors can be used to represent, for example, locations of places (e.g. schools, hospitals), roads, or country boundaries. Vector objects can be stored using spatial data formats such as GeoJSON (.geojson), GeoPackage (.gpkg), Shapefile (.shp).\n",
        "- **Raster data** - are composed of a grid of pixels. Examples include multispectral satellite images, nighttime luminosity maps, and digital elevation maps. Each pixel represents a value or class, e.g. red, green, blue values in satellite images; night light intensity in NTL maps; height in elevation maps. Raster data are commonly stored as GeoTIFFs (.tiff).\n",
        "\n",
        "To learn more about vectors and raster, [see this reference](https://gisgeography.com/spatial-data-types-vector-raster/).\n",
        "\n",
        "<img src=\"https://slideplayer.com/slide/6229417/20/images/10/Spatial+data%3A+Vector+vs+Raster.jpg=100x100\" width=\"350\"/>"
      ]
    },
    {
      "cell_type": "markdown",
      "metadata": {
        "id": "-xHy-Nb1slqX"
      },
      "source": [
        "## Geospatial Data Processing Tools\n",
        "We introduce the following geospatial analysis tools and Python packages:\n",
        "\n",
        "- [**Google Earth Engine**](https://earthengine.google.com/) - a public data archive of petabytes of historical satellite imagery and geospatial datasets. In this tutorial, we will use the [Python Earth Engine API](https://developers.google.com/earth-engine/#api) to access Sentinel-2 RGB images. Note that you will need sign up for access to Google Earth Engine at https://code.earthengine.google.com/.\n",
        "- [**GeoPandas**](https://geopandas.org/) - Extends the functionalities of pandas to add support for geographic data and geospatial analysis.\n",
        "- [**Rasterio**](https://rasterio.readthedocs.io/en/latest/) - Raster data such as satellite images are often stored using the GeoTIFF format. Rasterio allows you to read and write these formats and perform advanced geospatial operations on these datasets.  \n",
        "- [**Folium**](https://python-visualization.github.io/folium/) - Allows you to visualize geospatial data on an interactive leaflet map.\n",
        "\n",
        "For more geospatial analysis tools, see this [comprehensive list of Python packages](https://github.com/giswqs/python-geospatial)."
      ]
    },
    {
      "cell_type": "code",
      "source": [],
      "metadata": {
        "id": "lDzZF45HuJt-"
      },
      "execution_count": null,
      "outputs": []
    },
    {
      "cell_type": "markdown",
      "metadata": {
        "id": "0CDbvN6Zoefb"
      },
      "source": [
        "# Imports and Setup"
      ]
    },
    {
      "cell_type": "code",
      "execution_count": null,
      "metadata": {
        "id": "JN_NZz2XtgKm"
      },
      "outputs": [],
      "source": [
        "%%capture\n",
        "!pip -q install --upgrade folium\n",
        "!apt install libspatialindex-dev\n",
        "!pip -q install rtree\n",
        "!pip -q install geopandas\n",
        "!pip -q install geojson\n",
        "!pip -q install geemap==0.17.3\n",
        "!pip -q uninstall tornado -y\n",
        "!yes | pip install tornado==5.1.0\n",
        "!pip -q install rasterio\n",
        "!pip -q install tqdm\n",
        "!pip -q install eeconvert"
      ]
    },
    {
      "cell_type": "code",
      "execution_count": null,
      "metadata": {
        "id": "Ew3_MrrGslr4"
      },
      "outputs": [],
      "source": [
        "# Standard imports\n",
        "import os\n",
        "from tqdm.notebook import tqdm\n",
        "import requests\n",
        "import json\n",
        "\n",
        "import pandas as pd\n",
        "import numpy as np\n",
        "from PIL import Image\n",
        "\n",
        "# Geospatial processing packages\n",
        "import geopandas as gpd\n",
        "import geojson\n",
        "\n",
        "import shapely\n",
        "import rasterio as rio\n",
        "from rasterio.plot import show\n",
        "import rasterio.mask\n",
        "from shapely.geometry import box\n",
        "\n",
        "# Mapping and plotting libraries\n",
        "import matplotlib.pyplot as plt\n",
        "import matplotlib.colors as cl\n",
        "import ee\n",
        "import eeconvert as eec\n",
        "import geemap\n",
        "import geemap.eefolium as emap\n",
        "import folium\n",
        "\n",
        "# Deep learning libraries\n",
        "import torch\n",
        "from torchvision import datasets, models, transforms"
      ]
    },
    {
      "cell_type": "markdown",
      "metadata": {
        "id": "u7UQeErEItTQ"
      },
      "source": [
        "### Mount Drive"
      ]
    },
    {
      "cell_type": "code",
      "execution_count": null,
      "metadata": {
        "id": "IQvQCFgfIsoo"
      },
      "outputs": [],
      "source": [
        "from google.colab import drive\n",
        "drive.mount('/content/drive', force_remount=True)"
      ]
    },
    {
      "cell_type": "markdown",
      "metadata": {
        "id": "N8JfmJxa043J"
      },
      "source": [
        "### Authenticate Google Earth Engine\n",
        "Make sure you have signed up for access to Google Earth Engine at https://signup.earthengine.google.com/#!/. Once your request has been approved, you should be able to access Google Earth Engine at https://code.earthengine.google.com/."
      ]
    },
    {
      "cell_type": "code",
      "execution_count": null,
      "metadata": {
        "id": "w5nXj4Fo03Wr"
      },
      "outputs": [],
      "source": [
        "ee.Authenticate()\n",
        "ee.Initialize(project=\"ee-meticrop\")"
      ]
    },
    {
      "cell_type": "markdown",
      "metadata": {
        "id": "_4hf8Z5CwSOE"
      },
      "source": [
        "<a name=\"admin-bounds\"></a>\n",
        "# Download Country Boundaries\n",
        "\n",
        "Our first step is to download the administrative boundaries of our country of interest, which we will obtain via [geoBoundaries by the William and Mary GeoLab](https://www.geoboundaries.org/index.html). geoBoundaries is a free and openly accessible global database of political administrative boundaries for every country in the world. The geographic boundaries can be downloaded via API access through a simple query:\n",
        "\n",
        "```\n",
        "https://www.geoboundaries.org/gbRequest.html?ISO=[3-LETTER-ISO-CODE]&ADM=[ADM-LEVEL]\n",
        "```\n",
        "- **ISO** - The three-letter ISO code representing the country of interest.\n",
        "  - [See this page](https://en.wikipedia.org/wiki/List_of_ISO_3166_country_codes) for the complete list of ISO codes per country.\n",
        "- **ADM** - One of ADM0, ADM1, ADM2, ADM3, ADM4 or ADM5, representing each level of administrative hierarchy.\n",
        "\n",
        "For more information, see [API documentation](https://www.geoboundaries.org/api.html).\n",
        "\n",
        "In this example, we choose **Germany** as our area of interest. We set the ISO code to \"DEU\" and ADM to \"ADM2\". The query should return the geometries for all 403 administrative districts in Germany. In the following cell, we send a request for the Germany admin boundaries, save the result as a GeoJSON file, and read the file using GeoPandas."
      ]
    },
    {
      "cell_type": "code",
      "execution_count": null,
      "metadata": {
        "id": "Oh_8NeAcs3qS"
      },
      "outputs": [],
      "source": [
        "ISO = 'TUN' # \"DEU\" is the ISO code for Germany\n",
        "ADM = 'ADM1' # Equivalent to administrative districts\n",
        "\n",
        "# Query geoBoundaries\n",
        "url = f\"https://www.geoboundaries.org/api/current/gbOpen/{ISO}/{ADM}\"\n",
        "r = requests.get(url)\n",
        "download_path = r.json()[\"gjDownloadURL\"]\n",
        "\n",
        "# Save the result as a GeoJSON\n",
        "filename = 'geoboundary.geojson'\n",
        "geoboundary = requests.get(download_path).json()\n",
        "with open(filename, 'w') as file:\n",
        "   geojson.dump(geoboundary, file)\n",
        "\n",
        "# Read data using GeoPandas\n",
        "geoboundary = gpd.read_file(filename)\n",
        "print(\"Data dimensions: {}\".format(geoboundary.shape))\n",
        "geoboundary.sample(10)"
      ]
    },
    {
      "cell_type": "markdown",
      "metadata": {
        "id": "8r_o242a1tai"
      },
      "source": [
        "In this example, we visualize the adminstrative boundary for district **Kreis Borken** using the GeoPandas `.plot()` function."
      ]
    },
    {
      "cell_type": "code",
      "execution_count": null,
      "metadata": {
        "id": "hW8zZOy9t613"
      },
      "outputs": [],
      "source": [
        "shape_name = 'Monastir'\n",
        "fig, ax = plt.subplots(1, figsize=(10,10))\n",
        "geoboundary[geoboundary.shapeName == shape_name].plot('shapeName', legend=True, ax=ax);"
      ]
    },
    {
      "cell_type": "markdown",
      "metadata": {
        "id": "RMBvT_V355PW"
      },
      "source": [
        "<a name=\"sentinel-2\"></a>\n",
        "# Generate Sentinel-2 Satellite Images\n",
        "Sentinel-2 is an Earth observation mission from the Copernicus Programme that provides global multispectral imagery every 10 days (2015 - present) at 10 m resolution (i.e. the length of one side of a pixel is equal to 10 meters).\n",
        "\n",
        "Images are typically composed of 3 channels or bands: red, green, and blue. Sentinel-2, on the other hand, is able to capture 13 spectral bands:\n",
        "- 4 bands at 10 meter: blue, green, red, and near-infrared\n",
        "- 6 bands at 20 meter: for vegetation characterization and for applications such as snow/ice/cloud detection or vegetation moisture stress assessment.\n",
        "- 3 bands at 60 meter: mainly for cloud screening and atmospheric corrections\n",
        "\n",
        "\n",
        "&nbsp; &nbsp; &nbsp; &nbsp;<img src=\"https://www.researchgate.net/profile/Gordana_Jovanovska_Kaplan/publication/314119510/figure/tbl1/AS:670480428195846@1536866399263/Sentinel-2-band-characteristics.png\" width=\"400\"/>\n",
        "\n",
        "For simplicity, we only used the Red, Green, and Blue bands for LULC classification in this tutorial. However, multispectral data contains rich information that can be useful for a number of applications including crop yield estimation, vegetation health monitoring, built-up area expansion analysis, informal settlement detection, and so much more. We highly encourage you to explore the full potential of Sentinel-2 satellite imagery for climate-related applications.\n",
        "\n",
        "[Learn more about Sentinel-2 here](https://www.usgs.gov/centers/eros/science/usgs-eros-archive-sentinel-2?qt-science_center_objects=0#qt-science_center_objects).\n"
      ]
    },
    {
      "cell_type": "markdown",
      "metadata": {
        "id": "-PpjeXFbAMRB"
      },
      "source": [
        "## Google Earth Engine\n",
        "In this section, we will demonstrate how to use Google Engine to download Sentinel-2 satellite imagery. Again, for simplicity, we will only download Sentinel-2 RGB bands - red (B4), green (B3), and blue (B2).\n",
        "\n",
        "In the following cell, we define a function to generate a Sentinel-2 image from Google Earth using the Python Earth Engine API. In order to minimize cloud cover, we chose to aggregate a collection of images over a period of time, as opposed to obtaining a single image on a given date."
      ]
    },
    {
      "cell_type": "code",
      "execution_count": null,
      "metadata": {
        "id": "uFlTm3WHaSPZ"
      },
      "outputs": [],
      "source": [
        "def generate_image(\n",
        "    region,\n",
        "    product='COPERNICUS/S2',\n",
        "    min_date='2018-01-01',\n",
        "    max_date='2024-01-01',\n",
        "    range_min=0,\n",
        "    range_max=2000,\n",
        "    cloud_pct=10\n",
        "):\n",
        "\n",
        "    \"\"\"Generates cloud-filtered, median-aggregated\n",
        "    Sentinel-2 image from Google Earth Engine using the\n",
        "    Pythin Earth Engine API.\n",
        "\n",
        "    Args:\n",
        "      region (ee.Geometry): The geometry of the area of interest to filter to.\n",
        "      product (str): Earth Engine asset ID\n",
        "        You can find the full list of ImageCollection IDs\n",
        "        at https://developers.google.com/earth-engine/datasets\n",
        "      min_date (str): Minimum date to acquire collection of satellite images\n",
        "      max_date (str): Maximum date to acquire collection of satellite images\n",
        "      range_min (int): Minimum value for visalization range\n",
        "      range_max (int): Maximum value for visualization range\n",
        "      cloud_pct (float): The cloud cover percent to filter by (default 10)\n",
        "\n",
        "    Returns:\n",
        "      ee.image.Image: Generated Sentinel-2 image clipped to the region of interest\n",
        "    \"\"\"\n",
        "\n",
        "    # Generate median aggregated composite\n",
        "    image = ee.ImageCollection(product)\\\n",
        "        .filterBounds(region)\\\n",
        "        .filterDate(str(min_date), str(max_date))\\\n",
        "        .filter(ee.Filter.lt(\"CLOUDY_PIXEL_PERCENTAGE\", cloud_pct))\\\n",
        "        .median()\n",
        "\n",
        "    # Get RGB bands\n",
        "    image = image.visualize(bands=['B4', 'B3', 'B2'], min=range_min, max=range_max)\n",
        "    # Note that the max value of the RGB bands is set to 65535\n",
        "    # because the bands of Sentinel-2 are 16-bit integers\n",
        "    # with a full numerical range of [0, 65535] (max is 2^16 - 1);\n",
        "    # however, the actual values are much smaller than the max value.\n",
        "    # Source: https://stackoverflow.com/a/63912278/4777141\n",
        "\n",
        "    return image.clip(region)"
      ]
    },
    {
      "cell_type": "markdown",
      "metadata": {
        "id": "3i1asxmpJZk2"
      },
      "source": [
        "We generate and visualize the Sentinel-2 satellite image for Kreis Borken. The satellite image is generated by getting the median of all Sentinel-2 images in 2020 with a cloud cover of less than 10%."
      ]
    },
    {
      "cell_type": "code",
      "execution_count": null,
      "metadata": {
        "id": "4A4reLL02dp7"
      },
      "outputs": [],
      "source": [
        "# Get the shape geometry for Kreis Borken\n",
        "region  = geoboundary.loc[geoboundary.shapeName == shape_name]\n",
        "centroid = region.iloc[0].geometry.centroid.coords[0]\n",
        "region = eec.gdfToFc(region) #geodataframe to feature collection\n",
        "\n",
        "# Generate RGB image using GEE\n",
        "image = generate_image(\n",
        "    region,\n",
        "    product='COPERNICUS/S2', # Sentinel-2A\n",
        "    min_date='2021-01-01', # Get all images within\n",
        "    max_date='2021-12-31', # the year 2021\n",
        "    cloud_pct=10, # Filter out images with cloud cover >= 10.0%\n",
        ")\n",
        "\n",
        "# Visualize map\n",
        "Map = emap.Map(center=[centroid[1], centroid[0]], zoom=10)\n",
        "Map.addLayer(image, {}, 'Sentinel2')\n",
        "Map.addLayerControl()\n",
        "Map"
      ]
    },
    {
      "cell_type": "markdown",
      "metadata": {
        "id": "rSk-pQTb-hx7"
      },
      "source": [
        "## Export Image to Local Gdrive\n",
        "In the following cell, we define a function to export our generated Sentinel-2 satellite image to our local Google Drive."
      ]
    },
    {
      "cell_type": "code",
      "execution_count": null,
      "metadata": {
        "id": "0crFiRfEaOhe"
      },
      "outputs": [],
      "source": [
        "def export_image(image, filename, region, folder):\n",
        "    \"\"\"Export Image to Google Drive.\n",
        "\n",
        "    Args:\n",
        "      image (ee.image.Image): Generated Sentinel-2 image\n",
        "      filename (str): Name of image, without the file extension\n",
        "      geometry (ee.geometry.Geometry): The geometry of the area of\n",
        "        interest to filter to.\n",
        "      folder (str): The destination folder in your Google Drive.\n",
        "\n",
        "    Returns:\n",
        "      ee.batch.Task: A task instance\n",
        "    \"\"\"\n",
        "\n",
        "    print('Exporting to {}.tif ...'.format(filename))\n",
        "\n",
        "    task = ee.batch.Export.image.toDrive(\n",
        "      image=image,\n",
        "      driveFolder=folder,\n",
        "      scale=10,\n",
        "      region=region.geometry(),\n",
        "      description=filename,\n",
        "      fileFormat='GeoTIFF',\n",
        "      crs='EPSG:4326',\n",
        "      maxPixels=900000000\n",
        "    )\n",
        "    task.start()\n",
        "\n",
        "    return task"
      ]
    },
    {
      "cell_type": "markdown",
      "metadata": {
        "id": "eRsopDluL-HV"
      },
      "source": [
        "We can now proceed to download the image to our local Google Drive as a GeoTIFF.\n",
        "\n",
        "**Note**: Be careful about exporting large images as they can take a while to download and could eat up storage space!"
      ]
    },
    {
      "cell_type": "markdown",
      "metadata": {
        "id": "NCzghtIeN4RC"
      },
      "source": [
        "You can repeatedly run `task.status()` to monitor the state of the task. After a while, the state should change from \"READY\" to \"RUNNING\" to \"COMPLETE\".\n",
        "\n",
        "Alternatively, you can go to https://code.earthengine.google.com/ to check the status of the task."
      ]
    },
    {
      "cell_type": "code",
      "execution_count": null,
      "metadata": {
        "id": "gdYvjoLUycm2"
      },
      "outputs": [],
      "source": [
        "folder = 'Colab Notebooks' # Change this to your file destination folder in Google drive\n",
        "task = export_image(image, shape_name, region, folder)"
      ]
    },
    {
      "cell_type": "code",
      "execution_count": null,
      "metadata": {
        "id": "qwBUGymaN0iV"
      },
      "outputs": [],
      "source": [
        "task.status()"
      ]
    },
    {
      "cell_type": "markdown",
      "metadata": {
        "id": "NTfTOeimJeqJ"
      },
      "source": [
        "## Visualize Sentinel-2A Image\n",
        "\n",
        "Once the task status changes to \"COMPLETE\", check that the satellite image is in your google drive.\n",
        "\n",
        "In the following cell, we load and visualize the satellite raster image using the Rasterio library."
      ]
    },
    {
      "cell_type": "code",
      "execution_count": null,
      "metadata": {
        "id": "iqiAA7gQITY9"
      },
      "outputs": [],
      "source": [
        "# Change this to your image file path\n",
        "cwd = './drive/My Drive/Colab Notebooks/'\n",
        "tif_file = os.path.join(cwd, '{}.tif'.format(shape_name))\n",
        "\n",
        "# Uncomment this to download the TIF file\n",
        "if not os.path.isfile(tif_file):\n",
        "  tif_file = '{}.tif'.format(shape_name)\n",
        "  !gdown \"12VJQBht4n544OXh4dmugqMESXXxRlBcU\"\n",
        "\n",
        "# Open image file using Rasterio\n",
        "image = rio.open(tif_file)\n",
        "boundary = geoboundary[geoboundary.shapeName == shape_name]\n",
        "\n",
        "# Plot image and corresponding boundary\n",
        "fig, ax = plt.subplots(figsize=(15,15))\n",
        "boundary.plot(facecolor=\"none\", edgecolor='red', ax=ax)\n",
        "show(image, ax=ax);"
      ]
    },
    {
      "cell_type": "markdown",
      "metadata": {
        "id": "nB3cNEKYalCA"
      },
      "source": [
        "<a name=\"tiles\"></a>\n",
        "# Generate 64x64 px GeoJSON Tiles\n",
        "\n",
        "Recall that in previous tutorial, we trained a deep learning model on the [EuroSAT RGB dataset](), which consists of 64x64 pixel Sentinel-2 image patches. This means that we will also need to break down our huge Sentinel-2 image into smaller 64x64 px tiles.\n",
        "\n",
        "Let's start by creating a function that generates a grid of 64x64 px square polygons using [Rasterio Window utilities](https://rasterio.readthedocs.io/en/latest/api/rasterio.windows.html)."
      ]
    },
    {
      "cell_type": "code",
      "execution_count": null,
      "metadata": {
        "id": "fqbY3WyKaAqf"
      },
      "outputs": [],
      "source": [
        "def generate_tiles(image_file, output_file, area_str, size=64):\n",
        "    \"\"\"Generates 64 x 64 polygon tiles.\n",
        "\n",
        "    Args:\n",
        "      image_file (str): Image file path (.tif)\n",
        "      output_file (str): Output file path (.geojson)\n",
        "      area_str (str): Name of the region\n",
        "      size(int): Window size\n",
        "\n",
        "    Returns:\n",
        "      GeoPandas DataFrame: Contains 64 x 64 polygon tiles\n",
        "    \"\"\"\n",
        "\n",
        "    # Open the raster image using rasterio\n",
        "    raster = rio.open(image_file)\n",
        "    width, height = raster.shape\n",
        "\n",
        "    # Create a dictionary which will contain our 64 x 64 px polygon tiles\n",
        "    # Later we'll convert this dict into a GeoPandas DataFrame.\n",
        "    geo_dict = { 'id' : [], 'geometry' : []}\n",
        "    index = 0\n",
        "\n",
        "    # Do a sliding window across the raster image\n",
        "    with tqdm(total=width*height) as pbar:\n",
        "      for w in range(0, width, size):\n",
        "          for h in range(0, height, size):\n",
        "              # Create a Window of your desired size\n",
        "              window = rio.windows.Window(h, w, size, size)\n",
        "              # Get the georeferenced window bounds\n",
        "              bbox = rio.windows.bounds(window, raster.transform)\n",
        "              # Create a shapely geometry from the bounding box\n",
        "              bbox = box(*bbox)\n",
        "\n",
        "              # Create a unique id for each geometry\n",
        "              uid = '{}-{}'.format(area_str.lower().replace(' ', '_'), index)\n",
        "\n",
        "              # Update dictionary\n",
        "              geo_dict['id'].append(uid)\n",
        "              geo_dict['geometry'].append(bbox)\n",
        "\n",
        "              index += 1\n",
        "              pbar.update(size*size)\n",
        "\n",
        "    # Cast dictionary as a GeoPandas DataFrame\n",
        "    results = gpd.GeoDataFrame(pd.DataFrame(geo_dict))\n",
        "    # Set CRS to EPSG:4326\n",
        "    results.crs = {'init' :'epsg:4326'}\n",
        "    # Save file as GeoJSON\n",
        "    results.to_file(output_file, driver=\"GeoJSON\")\n",
        "\n",
        "    raster.close()\n",
        "    return results"
      ]
    },
    {
      "cell_type": "markdown",
      "metadata": {
        "id": "2FohLbxEWWQx"
      },
      "source": [
        "We can now create square polygons of size 64x64 px across the Kreis Borken Sentinel-2 satellite image."
      ]
    },
    {
      "cell_type": "code",
      "execution_count": null,
      "metadata": {
        "id": "J8AthojMch2U"
      },
      "outputs": [],
      "source": [
        "output_file = os.path.join(cwd, '{}.geojson'.format(shape_name))\n",
        "tiles = generate_tiles(tif_file, output_file, shape_name, size=64)\n",
        "\n",
        "# Uncomment this to download GeoJSON file\n",
        "#if not os.path.isfile(output_file):\n",
        "#  output_file = '{}.geojson'.format(shape_name)\n",
        "#  !gdown \"1h7L17F0SD1xuppWddqAVh64zxH7Cjf9p\"\n",
        "\n",
        "print('Data dimensions: {}'.format(tiles.shape))\n",
        "tiles.head(3)"
      ]
    },
    {
      "cell_type": "markdown",
      "metadata": {
        "id": "3Mk9nhx7fvD3"
      },
      "source": [
        "## Visualize 64x64 px Tiles\n",
        "\n",
        "Let's open the Sentinel-2 raster file using Rasterio and superimpose the 64x64px vector polygons as follows."
      ]
    },
    {
      "cell_type": "code",
      "execution_count": null,
      "metadata": {
        "id": "dDRoFns7WLQc"
      },
      "outputs": [],
      "source": [
        "image = rio.open(tif_file)\n",
        "fig, ax = plt.subplots(figsize=(15,15))\n",
        "tiles.plot(facecolor=\"none\", edgecolor='red', ax=ax)\n",
        "show(image, ax=ax);"
      ]
    },
    {
      "cell_type": "markdown",
      "metadata": {
        "id": "uz4luVvSXIyi"
      },
      "source": [
        "Notice that the polygons are generated for empty (black) regions as well. Using our model to predict on blank regions seems computationally wasteful.\n",
        "\n",
        "Instead, we can get the intersection between:\n",
        "- the Kreis Borken boundary polygon and\n",
        "- the 64 x 64 grid tiles.\n",
        "\n",
        "To do this, we use GeoPandas `.sjoin()` function. We set parameter `op='within'` to indicate that we only want the tiles that lie within the district boundary.\n",
        "\n",
        "[See  more information on GeoPandas sjoin operation here](https://geopandas.org/reference/geopandas.sjoin.html).\n"
      ]
    },
    {
      "cell_type": "code",
      "execution_count": null,
      "metadata": {
        "id": "pUUhdEnohXk8"
      },
      "outputs": [],
      "source": [
        "image = rio.open(tif_file)\n",
        "\n",
        "# Geopandas sjoin function\n",
        "tiles = gpd.sjoin(tiles, boundary, predicate='within')\n",
        "\n",
        "fig, ax = plt.subplots(figsize=(15,15))\n",
        "tiles.plot(facecolor=\"none\", edgecolor='red', ax=ax)\n",
        "show(image, ax=ax);"
      ]
    },
    {
      "cell_type": "markdown",
      "metadata": {
        "id": "D5ZaGJq5Bm8H"
      },
      "source": [
        "## Visualize Single Cropped Image\n",
        "We can now crop our Sentinel-2 image using the generated grids.\n",
        "\n",
        "Here, we visualize the Sentinel-2 image cropped using the first tile."
      ]
    },
    {
      "cell_type": "code",
      "execution_count": null,
      "metadata": {
        "id": "B78Y6bhAf5R6"
      },
      "outputs": [],
      "source": [
        "def show_crop(image, shape, title=''):\n",
        "  \"\"\"Crops an image based on the polygon shape.\n",
        "  Reference: https://rasterio.readthedocs.io/en/latest/api/rasterio.mask.html#rasterio.mask.mask\n",
        "\n",
        "  Args:\n",
        "    image (str): Image file path (.tif)\n",
        "    shape (geometry): The tile with which to crop the image\n",
        "    title(str): Image title\n",
        "  \"\"\"\n",
        "\n",
        "  with rio.open(image) as src:\n",
        "      out_image, out_transform = rio.mask.mask(src, shape, crop=True)\n",
        "      # Crop out black (zero) border\n",
        "      _, x_nonzero, y_nonzero = np.nonzero(out_image)\n",
        "      out_image = out_image[\n",
        "        :,\n",
        "        np.min(x_nonzero):np.max(x_nonzero),\n",
        "        np.min(y_nonzero):np.max(y_nonzero)\n",
        "      ]\n",
        "      # Visualize image\n",
        "      show(out_image, title=title)\n",
        "\n",
        "show_crop(tif_file, [tiles.iloc[5]['geometry']])"
      ]
    },
    {
      "cell_type": "markdown",
      "metadata": {
        "id": "iTGB6vd17ETz"
      },
      "source": [
        "<a name=\"lulc-maps\"></a>\n",
        "# Generate Land Use and Land Cover Map\n",
        "In this section, we will generate our land use and land cover classification map using the trained model from the previous tutorial. Recall that the EuroSAT dataset consists of 10 different LULC classes as listed below."
      ]
    },
    {
      "cell_type": "code",
      "execution_count": null,
      "metadata": {
        "id": "OH1EE4JAeVsK"
      },
      "outputs": [],
      "source": [
        "# LULC Classes\n",
        "classes = [\n",
        "  'AnnualCrop',\n",
        "  'Forest',\n",
        "  'HerbaceousVegetation',\n",
        "  'Highway',\n",
        "  'Industrial',\n",
        "  'Pasture',\n",
        "  'PermanentCrop',\n",
        "  'Residential',\n",
        "  'River',\n",
        "  'SeaLake'\n",
        "]"
      ]
    },
    {
      "cell_type": "markdown",
      "metadata": {
        "id": "-P2gEnIHqBY0"
      },
      "source": [
        "Remember in the previous tutorial that we applied a set of data transformations to our test set. Before we run our new images through the model, we'll need to apply these same transformation to our new data as follow."
      ]
    },
    {
      "cell_type": "code",
      "execution_count": null,
      "metadata": {
        "id": "pZfuGxmIp6Ra"
      },
      "outputs": [],
      "source": [
        "imagenet_mean, imagenet_std = [0.485, 0.456, 0.406], [0.229, 0.224, 0.225]\n",
        "\n",
        "transform = transforms.Compose([\n",
        "    transforms.Resize(224),\n",
        "    transforms.CenterCrop(224),\n",
        "    transforms.ToTensor(),\n",
        "    transforms.Normalize(imagenet_mean, imagenet_std)\n",
        "])"
      ]
    },
    {
      "cell_type": "markdown",
      "metadata": {
        "id": "QoHU3Wn7pIRr"
      },
      "source": [
        "## Model Prediction & LULC Map Generation"
      ]
    },
    {
      "cell_type": "code",
      "execution_count": null,
      "metadata": {
        "id": "-u05VmCkdGv8"
      },
      "outputs": [],
      "source": [
        "def predict_crop(image, shape, classes, model, show=False):\n",
        "    \"\"\"Generates model prediction using trained model\n",
        "\n",
        "    Args:\n",
        "      image (str): Image file path (.tiff)\n",
        "      shape (geometry): The tile with which to crop the image\n",
        "      classes (list): List of LULC classes\n",
        "\n",
        "    Return\n",
        "      str: Predicted label\n",
        "    \"\"\"\n",
        "\n",
        "    with rio.open(image) as src:\n",
        "        # Crop source image using polygon shape\n",
        "        # See more information here:\n",
        "        # https://rasterio.readthedocs.io/en/latest/api/rasterio.mask.html#rasterio.mask.mask\n",
        "        out_image, out_transform = rio.mask.mask(src, shape, crop=True)\n",
        "        # Crop out black (zero) border\n",
        "        _, x_nonzero, y_nonzero = np.nonzero(out_image)\n",
        "        out_image = out_image[\n",
        "          :,\n",
        "          np.min(x_nonzero):np.max(x_nonzero),\n",
        "          np.min(y_nonzero):np.max(y_nonzero)\n",
        "        ]\n",
        "\n",
        "        # Get the metadata of the source image and update it\n",
        "        # with the width, height, and transform of the cropped image\n",
        "        out_meta = src.meta\n",
        "        out_meta.update({\n",
        "              \"driver\": \"GTiff\",\n",
        "              \"height\": out_image.shape[1],\n",
        "              \"width\": out_image.shape[2],\n",
        "              \"transform\": out_transform\n",
        "        })\n",
        "\n",
        "        # Save the cropped image as a temporary TIFF file.\n",
        "        temp_tif = 'temp.tif'\n",
        "        with rio.open(temp_tif, \"w\", **out_meta) as dest:\n",
        "          dest.write(out_image)\n",
        "\n",
        "        # Open the cropped image and generated prediction\n",
        "        # using the trained Pytorch model\n",
        "        image = Image.open(temp_tif)\n",
        "        input = transform(image)\n",
        "        output = model(input.unsqueeze(0))\n",
        "        _, pred = torch.max(output, 1)\n",
        "        label = str(classes[int(pred[0])])\n",
        "\n",
        "        if show:\n",
        "          out_image.show(title=label)\n",
        "\n",
        "        return label\n",
        "\n",
        "    return None"
      ]
    },
    {
      "cell_type": "markdown",
      "metadata": {
        "id": "KAOvCSm4efbZ"
      },
      "source": [
        "Let's iterate over every 64x64 px tile and generate model predictions for the corresponding cropped image. Note that we are overwriting each temporary TIFF file to save storage space."
      ]
    },
    {
      "cell_type": "code",
      "execution_count": null,
      "metadata": {
        "id": "tVIyLD_kdKTa"
      },
      "outputs": [],
      "source": [
        "# Commence model prediction\n",
        "labels = [] # Store predictions\n",
        "for index in tqdm(range(len(tiles)), total=len(tiles)):\n",
        "  label = predict_crop(tif_file, [tiles.iloc[index]['geometry']], classes, model)\n",
        "  labels.append(label)\n",
        "tiles['pred'] = labels\n",
        "\n",
        "# Save predictions\n",
        "filepath = os.path.join(cwd, \"{}_preds.geojson\".format(shape_name))\n",
        "tiles.to_file(filepath, driver=\"GeoJSON\")\n",
        "\n",
        "tiles.head(3)"
      ]
    },
    {
      "cell_type": "markdown",
      "metadata": {
        "id": "0DOj0AM_uWA3"
      },
      "source": [
        "## Visualize Interactive LULC Map\n",
        "Lastly, we show you how to generate an interactive LULC map using Folium.\n",
        "\n",
        "Let's start by loading the resulting predictions."
      ]
    },
    {
      "cell_type": "code",
      "execution_count": null,
      "metadata": {
        "id": "4tsYl4tT-LjD"
      },
      "outputs": [],
      "source": [
        "filepath = os.path.join(cwd, \"{}_preds.geojson\".format(shape_name))\n",
        "\n",
        "# Uncomment this to download the model predictions\n",
        "if not os.path.isfile(filepath):\n",
        "  filepath = \"{}_preds.geojson\".format(shape_name)\n",
        "  !gdown \"1LN4efjd3WPGB1TtNiaHcRbFyBzbFY52A\"\n",
        "\n",
        "tiles = gpd.read_file(filepath)\n",
        "tiles.head(3)"
      ]
    },
    {
      "cell_type": "markdown",
      "metadata": {
        "id": "coGTqvMa-MKb"
      },
      "source": [
        "We then map each label to a corresponding color."
      ]
    },
    {
      "cell_type": "code",
      "execution_count": null,
      "metadata": {
        "id": "ANGUEZdjqLCc"
      },
      "outputs": [],
      "source": [
        "# We map each class to a corresponding color\n",
        "colors = {\n",
        "  'AnnualCrop' : 'lightgreen',\n",
        "  'Forest' : 'forestgreen',\n",
        "  'HerbaceousVegetation' : 'yellowgreen',\n",
        "  'Highway' : 'gray',\n",
        "  'Industrial' : 'red',\n",
        "  'Pasture' : 'mediumseagreen',\n",
        "  'PermanentCrop' : 'chartreuse',\n",
        "  'Residential' : 'magenta',\n",
        "  'River' : 'dodgerblue',\n",
        "  'SeaLake' : 'blue'\n",
        "}\n",
        "tiles['color'] = tiles[\"pred\"].apply(\n",
        "  lambda x: cl.to_hex(colors.get(x))\n",
        ")\n",
        "tiles.head(2)"
      ]
    },
    {
      "cell_type": "markdown",
      "metadata": {
        "id": "wJHwdIclqTj1"
      },
      "source": [
        "Note that you can toggle the map on/off using the upper right controls."
      ]
    },
    {
      "cell_type": "code",
      "execution_count": null,
      "metadata": {
        "id": "leehlKA5KGyo"
      },
      "outputs": [],
      "source": [
        "# Instantiate map centered on the centroid\n",
        "map = folium.Map(location=[centroid[1], centroid[0]], zoom_start=10)\n",
        "\n",
        "# Add Google Satellite basemap\n",
        "folium.TileLayer(\n",
        "      tiles = 'https://mt1.google.com/vt/lyrs=s&x={x}&y={y}&z={z}',\n",
        "      attr = 'Google',\n",
        "      name = 'Google Satellite',\n",
        "      overlay = True,\n",
        "      control = True\n",
        ").add_to(map)\n",
        "\n",
        "# Add LULC Map with legend\n",
        "legend_txt = '<span style=\"color: {col};\">{txt}</span>'\n",
        "for label, color in colors.items():\n",
        "\n",
        "  # Specify the legend color\n",
        "  name = legend_txt.format(txt=label, col=color)\n",
        "  feat_group = folium.FeatureGroup(name=name)\n",
        "\n",
        "  # Add GeoJSON to feature group\n",
        "  subtiles = tiles[tiles.pred==label]\n",
        "  if len(subtiles) > 0:\n",
        "    folium.GeoJson(\n",
        "        subtiles,\n",
        "        style_function=lambda feature: {\n",
        "          'fillColor': feature['properties']['color'],\n",
        "          'color': 'black',\n",
        "          'weight': 1,\n",
        "          'fillOpacity': 0.5,\n",
        "        },\n",
        "        name='LULC Map'\n",
        "    ).add_to(feat_group)\n",
        "    map.add_child(feat_group)\n",
        "\n",
        "folium.LayerControl().add_to(map)\n",
        "map"
      ]
    },
    {
      "cell_type": "markdown",
      "metadata": {
        "id": "keQ6ad_RnY6j"
      },
      "source": [
        "# Conclusion\n",
        "Congrats on making it to the end! To recap, in this tutorial, you've learned how to download a Sentinel-2 satellite image for a region of interest using Google Earth Engine and apply a trained CNN model to generate a land use and land cover map. As an exercise, try applying the model to another region, e.g. your home country. How well does the model perform in this new geography?\n",
        "\n",
        "## Data Limitations\n",
        "If you've tried applying the model to another region of the world, you'll find that the model does not perform as well for certain areas. We note some of the limitations of the EuroSAT dataset as follows:\n",
        "- **Limited scene categories.** The 10 land cover classes in the EuroSAT dataset are not representative of the complex content of remote sensing data. These class labels are not mutually disjoint (e.g. an image can contain both a highway and a residential area) and their union does not cover real-world distribution (e.g. certain land cover types like desert land and aquaculture are not present in the dataset).\n",
        "- **Limited model transferrability.** Like many existing remote sensing datasets, EuroSAT, which consists of satellite images distributed across Europe, suffers from limited geographic coverage which restricts the model's generalizability to other regions of the world. Thus, collaboration with diverse research institutions and stronger data sharing efforts are necessary to improve the global coverage of annotated remote sensing datasets.\n",
        "\n",
        "## Climate-related Applications\n",
        "- **Land use and land cover change detection.** Given that Sentinel-2 will continue to collect RS data for the next several decades, one promising next step is to use the trained model to observe and detect changes in land cover. [MapBiomas](https://plataforma.brasil.mapbiomas.org/), for example, is a platform that visualizes LULC changes in Brazil over a long period of time. This can be particularly useful for urban planning, environmental monitoring, and nature protection. Deforestation, for example, contributes significantly to climate change; monitoring changes in forest cover and identifying drivers of forest loss can be useful for forest conservation and restoration efforts.\n",
        "- **Analyzing carbon emissions from land use change.**  Analyzing land use category conversion in conjunction with changes in soil carbon storage can help quantify the contribution of land use change and land management to total carbon emissions, as demonstrated in this [2016 study by Lai et al](https://advances.sciencemag.org/content/2/11/e1601063). The study found that land use change - particularly urbanization, which has led to rapid expansion of built-up areas and massive loss of terrestrial carbon storage - has resulted in large carbon emissions in China. This can significantly undermine carbon emission reduction targets unless appropriate measures are taken to control urbanization and improve land management.\n",
        "- **Vulnerability assessment of different land cover types.** Overlaying land cover maps with various geospatial hazard maps (e.g. hurricane paths, earthquake faults, and flood maps) and climate projection maps can be useful for assessing vulnerability of certain land cover types, such as settlements and agricultural land, to different risks. When shared with humanitarian organizations and government agencies, these maps have the potential to support disaster risk reduction planning as well as long-term climate mitigation and adaptation efforts.\n",
        "\n",
        "## Other Remote Sensing Datasets\n",
        "- So2Sat LCZ42: A benchmark dataset for global local climate zones classification  ([data](https://mediatum.ub.tum.de/1483140), [paper](https://arxiv.org/pdf/1912.12171.pdf))\n",
        "- RESISC45: High resolution remote sensing scene classification dataset( [data](https://www.tensorflow.org/datasets/catalog/resisc45), [paper](https://arxiv.org/abs/1703.00121))\n",
        "- BigEarthNet: Large-Scale Sentinel-2 Benchmark ([data](http://bigearth.net/), [paper](https://arxiv.org/abs/1902.06148))\n",
        "\n",
        "[Check out this Github repository](https://github.com/chrieke/awesome-satellite-imagery-datasets) for a more comprehensive collection of satellite imagery datasets.\n",
        "\n",
        "## Next Steps\n",
        "**Interested in learning more about climate change and machine learning?**\n",
        "\n",
        "We encourage you to check out [our paper](), which provides a detailed guide of ways machine learning can be used to tackle climate change. Please also feel free to check out our [wiki]() and [tutorials]() on our website. We also encourage you to join the conversations on our [discussion forum](), submit to our [workshops](), attend our [events]() and [workshops](), and of course, sign up for our [newletter]()!"
      ]
    }
  ]
}